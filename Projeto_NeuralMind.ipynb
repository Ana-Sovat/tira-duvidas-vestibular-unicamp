{
  "nbformat": 4,
  "nbformat_minor": 0,
  "metadata": {
    "colab": {
      "provenance": [],
      "collapsed_sections": [
        "138yLIfOsip9"
      ]
    },
    "kernelspec": {
      "name": "python3",
      "display_name": "Python 3"
    },
    "language_info": {
      "name": "python"
    }
  },
  "cells": [
    {
      "cell_type": "markdown",
      "source": [
        "# Instalando Pacotes"
      ],
      "metadata": {
        "id": "-hexs24HsSVf"
      }
    },
    {
      "cell_type": "code",
      "execution_count": 1,
      "metadata": {
        "colab": {
          "base_uri": "https://localhost:8080/"
        },
        "id": "0fYiinoLNtIl",
        "outputId": "312287a2-1b71-44dc-8319-4894f54078b4"
      },
      "outputs": [
        {
          "output_type": "stream",
          "name": "stdout",
          "text": [
            "Requirement already satisfied: openai==0.28.1 in /usr/local/lib/python3.10/dist-packages (0.28.1)\n",
            "Requirement already satisfied: requests>=2.20 in /usr/local/lib/python3.10/dist-packages (from openai==0.28.1) (2.31.0)\n",
            "Requirement already satisfied: tqdm in /usr/local/lib/python3.10/dist-packages (from openai==0.28.1) (4.66.1)\n",
            "Requirement already satisfied: aiohttp in /usr/local/lib/python3.10/dist-packages (from openai==0.28.1) (3.8.6)\n",
            "Requirement already satisfied: charset-normalizer<4,>=2 in /usr/local/lib/python3.10/dist-packages (from requests>=2.20->openai==0.28.1) (3.3.1)\n",
            "Requirement already satisfied: idna<4,>=2.5 in /usr/local/lib/python3.10/dist-packages (from requests>=2.20->openai==0.28.1) (3.4)\n",
            "Requirement already satisfied: urllib3<3,>=1.21.1 in /usr/local/lib/python3.10/dist-packages (from requests>=2.20->openai==0.28.1) (1.26.18)\n",
            "Requirement already satisfied: certifi>=2017.4.17 in /usr/local/lib/python3.10/dist-packages (from requests>=2.20->openai==0.28.1) (2023.7.22)\n",
            "Requirement already satisfied: attrs>=17.3.0 in /usr/local/lib/python3.10/dist-packages (from aiohttp->openai==0.28.1) (23.1.0)\n",
            "Requirement already satisfied: multidict<7.0,>=4.5 in /usr/local/lib/python3.10/dist-packages (from aiohttp->openai==0.28.1) (6.0.4)\n",
            "Requirement already satisfied: async-timeout<5.0,>=4.0.0a3 in /usr/local/lib/python3.10/dist-packages (from aiohttp->openai==0.28.1) (4.0.3)\n",
            "Requirement already satisfied: yarl<2.0,>=1.0 in /usr/local/lib/python3.10/dist-packages (from aiohttp->openai==0.28.1) (1.9.2)\n",
            "Requirement already satisfied: frozenlist>=1.1.1 in /usr/local/lib/python3.10/dist-packages (from aiohttp->openai==0.28.1) (1.4.0)\n",
            "Requirement already satisfied: aiosignal>=1.1.2 in /usr/local/lib/python3.10/dist-packages (from aiohttp->openai==0.28.1) (1.3.1)\n",
            "Requirement already satisfied: langchain in /usr/local/lib/python3.10/dist-packages (0.0.331)\n",
            "Requirement already satisfied: PyYAML>=5.3 in /usr/local/lib/python3.10/dist-packages (from langchain) (6.0.1)\n",
            "Requirement already satisfied: SQLAlchemy<3,>=1.4 in /usr/local/lib/python3.10/dist-packages (from langchain) (2.0.22)\n",
            "Requirement already satisfied: aiohttp<4.0.0,>=3.8.3 in /usr/local/lib/python3.10/dist-packages (from langchain) (3.8.6)\n",
            "Requirement already satisfied: anyio<4.0 in /usr/local/lib/python3.10/dist-packages (from langchain) (3.7.1)\n",
            "Requirement already satisfied: async-timeout<5.0.0,>=4.0.0 in /usr/local/lib/python3.10/dist-packages (from langchain) (4.0.3)\n",
            "Requirement already satisfied: dataclasses-json<0.7,>=0.5.7 in /usr/local/lib/python3.10/dist-packages (from langchain) (0.6.1)\n",
            "Requirement already satisfied: jsonpatch<2.0,>=1.33 in /usr/local/lib/python3.10/dist-packages (from langchain) (1.33)\n",
            "Requirement already satisfied: langsmith<0.1.0,>=0.0.52 in /usr/local/lib/python3.10/dist-packages (from langchain) (0.0.60)\n",
            "Requirement already satisfied: numpy<2,>=1 in /usr/local/lib/python3.10/dist-packages (from langchain) (1.23.5)\n",
            "Requirement already satisfied: pydantic<3,>=1 in /usr/local/lib/python3.10/dist-packages (from langchain) (1.10.13)\n",
            "Requirement already satisfied: requests<3,>=2 in /usr/local/lib/python3.10/dist-packages (from langchain) (2.31.0)\n",
            "Requirement already satisfied: tenacity<9.0.0,>=8.1.0 in /usr/local/lib/python3.10/dist-packages (from langchain) (8.2.3)\n",
            "Requirement already satisfied: attrs>=17.3.0 in /usr/local/lib/python3.10/dist-packages (from aiohttp<4.0.0,>=3.8.3->langchain) (23.1.0)\n",
            "Requirement already satisfied: charset-normalizer<4.0,>=2.0 in /usr/local/lib/python3.10/dist-packages (from aiohttp<4.0.0,>=3.8.3->langchain) (3.3.1)\n",
            "Requirement already satisfied: multidict<7.0,>=4.5 in /usr/local/lib/python3.10/dist-packages (from aiohttp<4.0.0,>=3.8.3->langchain) (6.0.4)\n",
            "Requirement already satisfied: yarl<2.0,>=1.0 in /usr/local/lib/python3.10/dist-packages (from aiohttp<4.0.0,>=3.8.3->langchain) (1.9.2)\n",
            "Requirement already satisfied: frozenlist>=1.1.1 in /usr/local/lib/python3.10/dist-packages (from aiohttp<4.0.0,>=3.8.3->langchain) (1.4.0)\n",
            "Requirement already satisfied: aiosignal>=1.1.2 in /usr/local/lib/python3.10/dist-packages (from aiohttp<4.0.0,>=3.8.3->langchain) (1.3.1)\n",
            "Requirement already satisfied: idna>=2.8 in /usr/local/lib/python3.10/dist-packages (from anyio<4.0->langchain) (3.4)\n",
            "Requirement already satisfied: sniffio>=1.1 in /usr/local/lib/python3.10/dist-packages (from anyio<4.0->langchain) (1.3.0)\n",
            "Requirement already satisfied: exceptiongroup in /usr/local/lib/python3.10/dist-packages (from anyio<4.0->langchain) (1.1.3)\n",
            "Requirement already satisfied: marshmallow<4.0.0,>=3.18.0 in /usr/local/lib/python3.10/dist-packages (from dataclasses-json<0.7,>=0.5.7->langchain) (3.20.1)\n",
            "Requirement already satisfied: typing-inspect<1,>=0.4.0 in /usr/local/lib/python3.10/dist-packages (from dataclasses-json<0.7,>=0.5.7->langchain) (0.9.0)\n",
            "Requirement already satisfied: jsonpointer>=1.9 in /usr/local/lib/python3.10/dist-packages (from jsonpatch<2.0,>=1.33->langchain) (2.4)\n",
            "Requirement already satisfied: typing-extensions>=4.2.0 in /usr/local/lib/python3.10/dist-packages (from pydantic<3,>=1->langchain) (4.8.0)\n",
            "Requirement already satisfied: urllib3<3,>=1.21.1 in /usr/local/lib/python3.10/dist-packages (from requests<3,>=2->langchain) (1.26.18)\n",
            "Requirement already satisfied: certifi>=2017.4.17 in /usr/local/lib/python3.10/dist-packages (from requests<3,>=2->langchain) (2023.7.22)\n",
            "Requirement already satisfied: greenlet!=0.4.17 in /usr/local/lib/python3.10/dist-packages (from SQLAlchemy<3,>=1.4->langchain) (3.0.0)\n",
            "Requirement already satisfied: packaging>=17.0 in /usr/local/lib/python3.10/dist-packages (from marshmallow<4.0.0,>=3.18.0->dataclasses-json<0.7,>=0.5.7->langchain) (23.2)\n",
            "Requirement already satisfied: mypy-extensions>=0.3.0 in /usr/local/lib/python3.10/dist-packages (from typing-inspect<1,>=0.4.0->dataclasses-json<0.7,>=0.5.7->langchain) (1.0.0)\n",
            "Requirement already satisfied: chromadb in /usr/local/lib/python3.10/dist-packages (0.4.15)\n",
            "Requirement already satisfied: requests>=2.28 in /usr/local/lib/python3.10/dist-packages (from chromadb) (2.31.0)\n",
            "Requirement already satisfied: pydantic>=1.9 in /usr/local/lib/python3.10/dist-packages (from chromadb) (1.10.13)\n",
            "Requirement already satisfied: chroma-hnswlib==0.7.3 in /usr/local/lib/python3.10/dist-packages (from chromadb) (0.7.3)\n",
            "Requirement already satisfied: fastapi>=0.95.2 in /usr/local/lib/python3.10/dist-packages (from chromadb) (0.104.1)\n",
            "Requirement already satisfied: uvicorn[standard]>=0.18.3 in /usr/local/lib/python3.10/dist-packages (from chromadb) (0.24.0.post1)\n",
            "Requirement already satisfied: posthog>=2.4.0 in /usr/local/lib/python3.10/dist-packages (from chromadb) (3.0.2)\n",
            "Requirement already satisfied: typing-extensions>=4.5.0 in /usr/local/lib/python3.10/dist-packages (from chromadb) (4.8.0)\n",
            "Requirement already satisfied: pulsar-client>=3.1.0 in /usr/local/lib/python3.10/dist-packages (from chromadb) (3.3.0)\n",
            "Requirement already satisfied: onnxruntime>=1.14.1 in /usr/local/lib/python3.10/dist-packages (from chromadb) (1.16.1)\n",
            "Requirement already satisfied: opentelemetry-api>=1.2.0 in /usr/local/lib/python3.10/dist-packages (from chromadb) (1.20.0)\n",
            "Requirement already satisfied: opentelemetry-exporter-otlp-proto-grpc>=1.2.0 in /usr/local/lib/python3.10/dist-packages (from chromadb) (1.20.0)\n",
            "Requirement already satisfied: opentelemetry-sdk>=1.2.0 in /usr/local/lib/python3.10/dist-packages (from chromadb) (1.20.0)\n",
            "Requirement already satisfied: tokenizers>=0.13.2 in /usr/local/lib/python3.10/dist-packages (from chromadb) (0.14.1)\n",
            "Requirement already satisfied: pypika>=0.48.9 in /usr/local/lib/python3.10/dist-packages (from chromadb) (0.48.9)\n",
            "Requirement already satisfied: tqdm>=4.65.0 in /usr/local/lib/python3.10/dist-packages (from chromadb) (4.66.1)\n",
            "Requirement already satisfied: overrides>=7.3.1 in /usr/local/lib/python3.10/dist-packages (from chromadb) (7.4.0)\n",
            "Requirement already satisfied: importlib-resources in /usr/local/lib/python3.10/dist-packages (from chromadb) (6.1.0)\n",
            "Requirement already satisfied: grpcio>=1.58.0 in /usr/local/lib/python3.10/dist-packages (from chromadb) (1.59.0)\n",
            "Requirement already satisfied: bcrypt>=4.0.1 in /usr/local/lib/python3.10/dist-packages (from chromadb) (4.0.1)\n",
            "Requirement already satisfied: typer>=0.9.0 in /usr/local/lib/python3.10/dist-packages (from chromadb) (0.9.0)\n",
            "Requirement already satisfied: kubernetes>=28.1.0 in /usr/local/lib/python3.10/dist-packages (from chromadb) (28.1.0)\n",
            "Requirement already satisfied: tenacity>=8.2.3 in /usr/local/lib/python3.10/dist-packages (from chromadb) (8.2.3)\n",
            "Requirement already satisfied: numpy>=1.22.5 in /usr/local/lib/python3.10/dist-packages (from chromadb) (1.23.5)\n",
            "Requirement already satisfied: anyio<4.0.0,>=3.7.1 in /usr/local/lib/python3.10/dist-packages (from fastapi>=0.95.2->chromadb) (3.7.1)\n",
            "Requirement already satisfied: starlette<0.28.0,>=0.27.0 in /usr/local/lib/python3.10/dist-packages (from fastapi>=0.95.2->chromadb) (0.27.0)\n",
            "Requirement already satisfied: certifi>=14.05.14 in /usr/local/lib/python3.10/dist-packages (from kubernetes>=28.1.0->chromadb) (2023.7.22)\n",
            "Requirement already satisfied: six>=1.9.0 in /usr/local/lib/python3.10/dist-packages (from kubernetes>=28.1.0->chromadb) (1.16.0)\n",
            "Requirement already satisfied: python-dateutil>=2.5.3 in /usr/local/lib/python3.10/dist-packages (from kubernetes>=28.1.0->chromadb) (2.8.2)\n",
            "Requirement already satisfied: pyyaml>=5.4.1 in /usr/local/lib/python3.10/dist-packages (from kubernetes>=28.1.0->chromadb) (6.0.1)\n",
            "Requirement already satisfied: google-auth>=1.0.1 in /usr/local/lib/python3.10/dist-packages (from kubernetes>=28.1.0->chromadb) (2.17.3)\n",
            "Requirement already satisfied: websocket-client!=0.40.0,!=0.41.*,!=0.42.*,>=0.32.0 in /usr/local/lib/python3.10/dist-packages (from kubernetes>=28.1.0->chromadb) (1.6.4)\n",
            "Requirement already satisfied: requests-oauthlib in /usr/local/lib/python3.10/dist-packages (from kubernetes>=28.1.0->chromadb) (1.3.1)\n",
            "Requirement already satisfied: oauthlib>=3.2.2 in /usr/local/lib/python3.10/dist-packages (from kubernetes>=28.1.0->chromadb) (3.2.2)\n",
            "Requirement already satisfied: urllib3<2.0,>=1.24.2 in /usr/local/lib/python3.10/dist-packages (from kubernetes>=28.1.0->chromadb) (1.26.18)\n",
            "Requirement already satisfied: coloredlogs in /usr/local/lib/python3.10/dist-packages (from onnxruntime>=1.14.1->chromadb) (15.0.1)\n",
            "Requirement already satisfied: flatbuffers in /usr/local/lib/python3.10/dist-packages (from onnxruntime>=1.14.1->chromadb) (23.5.26)\n",
            "Requirement already satisfied: packaging in /usr/local/lib/python3.10/dist-packages (from onnxruntime>=1.14.1->chromadb) (23.2)\n",
            "Requirement already satisfied: protobuf in /usr/local/lib/python3.10/dist-packages (from onnxruntime>=1.14.1->chromadb) (3.20.3)\n",
            "Requirement already satisfied: sympy in /usr/local/lib/python3.10/dist-packages (from onnxruntime>=1.14.1->chromadb) (1.12)\n",
            "Requirement already satisfied: deprecated>=1.2.6 in /usr/local/lib/python3.10/dist-packages (from opentelemetry-api>=1.2.0->chromadb) (1.2.14)\n",
            "Requirement already satisfied: importlib-metadata<7.0,>=6.0 in /usr/local/lib/python3.10/dist-packages (from opentelemetry-api>=1.2.0->chromadb) (6.8.0)\n",
            "Requirement already satisfied: backoff<3.0.0,>=1.10.0 in /usr/local/lib/python3.10/dist-packages (from opentelemetry-exporter-otlp-proto-grpc>=1.2.0->chromadb) (2.2.1)\n",
            "Requirement already satisfied: googleapis-common-protos~=1.52 in /usr/local/lib/python3.10/dist-packages (from opentelemetry-exporter-otlp-proto-grpc>=1.2.0->chromadb) (1.61.0)\n",
            "Requirement already satisfied: opentelemetry-exporter-otlp-proto-common==1.20.0 in /usr/local/lib/python3.10/dist-packages (from opentelemetry-exporter-otlp-proto-grpc>=1.2.0->chromadb) (1.20.0)\n",
            "Requirement already satisfied: opentelemetry-proto==1.20.0 in /usr/local/lib/python3.10/dist-packages (from opentelemetry-exporter-otlp-proto-grpc>=1.2.0->chromadb) (1.20.0)\n",
            "Requirement already satisfied: opentelemetry-semantic-conventions==0.41b0 in /usr/local/lib/python3.10/dist-packages (from opentelemetry-sdk>=1.2.0->chromadb) (0.41b0)\n",
            "Requirement already satisfied: monotonic>=1.5 in /usr/local/lib/python3.10/dist-packages (from posthog>=2.4.0->chromadb) (1.6)\n",
            "Requirement already satisfied: charset-normalizer<4,>=2 in /usr/local/lib/python3.10/dist-packages (from requests>=2.28->chromadb) (3.3.1)\n",
            "Requirement already satisfied: idna<4,>=2.5 in /usr/local/lib/python3.10/dist-packages (from requests>=2.28->chromadb) (3.4)\n",
            "Requirement already satisfied: huggingface_hub<0.18,>=0.16.4 in /usr/local/lib/python3.10/dist-packages (from tokenizers>=0.13.2->chromadb) (0.17.3)\n",
            "Requirement already satisfied: click<9.0.0,>=7.1.1 in /usr/local/lib/python3.10/dist-packages (from typer>=0.9.0->chromadb) (8.1.7)\n",
            "Requirement already satisfied: h11>=0.8 in /usr/local/lib/python3.10/dist-packages (from uvicorn[standard]>=0.18.3->chromadb) (0.14.0)\n",
            "Requirement already satisfied: httptools>=0.5.0 in /usr/local/lib/python3.10/dist-packages (from uvicorn[standard]>=0.18.3->chromadb) (0.6.1)\n",
            "Requirement already satisfied: python-dotenv>=0.13 in /usr/local/lib/python3.10/dist-packages (from uvicorn[standard]>=0.18.3->chromadb) (1.0.0)\n",
            "Requirement already satisfied: uvloop!=0.15.0,!=0.15.1,>=0.14.0 in /usr/local/lib/python3.10/dist-packages (from uvicorn[standard]>=0.18.3->chromadb) (0.19.0)\n",
            "Requirement already satisfied: watchfiles>=0.13 in /usr/local/lib/python3.10/dist-packages (from uvicorn[standard]>=0.18.3->chromadb) (0.21.0)\n",
            "Requirement already satisfied: websockets>=10.4 in /usr/local/lib/python3.10/dist-packages (from uvicorn[standard]>=0.18.3->chromadb) (12.0)\n",
            "Requirement already satisfied: sniffio>=1.1 in /usr/local/lib/python3.10/dist-packages (from anyio<4.0.0,>=3.7.1->fastapi>=0.95.2->chromadb) (1.3.0)\n",
            "Requirement already satisfied: exceptiongroup in /usr/local/lib/python3.10/dist-packages (from anyio<4.0.0,>=3.7.1->fastapi>=0.95.2->chromadb) (1.1.3)\n",
            "Requirement already satisfied: wrapt<2,>=1.10 in /usr/local/lib/python3.10/dist-packages (from deprecated>=1.2.6->opentelemetry-api>=1.2.0->chromadb) (1.14.1)\n",
            "Requirement already satisfied: cachetools<6.0,>=2.0.0 in /usr/local/lib/python3.10/dist-packages (from google-auth>=1.0.1->kubernetes>=28.1.0->chromadb) (5.3.2)\n",
            "Requirement already satisfied: pyasn1-modules>=0.2.1 in /usr/local/lib/python3.10/dist-packages (from google-auth>=1.0.1->kubernetes>=28.1.0->chromadb) (0.3.0)\n",
            "Requirement already satisfied: rsa<5,>=3.1.4 in /usr/local/lib/python3.10/dist-packages (from google-auth>=1.0.1->kubernetes>=28.1.0->chromadb) (4.9)\n",
            "Requirement already satisfied: filelock in /usr/local/lib/python3.10/dist-packages (from huggingface_hub<0.18,>=0.16.4->tokenizers>=0.13.2->chromadb) (3.12.4)\n",
            "Requirement already satisfied: fsspec in /usr/local/lib/python3.10/dist-packages (from huggingface_hub<0.18,>=0.16.4->tokenizers>=0.13.2->chromadb) (2023.6.0)\n",
            "Requirement already satisfied: zipp>=0.5 in /usr/local/lib/python3.10/dist-packages (from importlib-metadata<7.0,>=6.0->opentelemetry-api>=1.2.0->chromadb) (3.17.0)\n",
            "Requirement already satisfied: humanfriendly>=9.1 in /usr/local/lib/python3.10/dist-packages (from coloredlogs->onnxruntime>=1.14.1->chromadb) (10.0)\n",
            "Requirement already satisfied: mpmath>=0.19 in /usr/local/lib/python3.10/dist-packages (from sympy->onnxruntime>=1.14.1->chromadb) (1.3.0)\n",
            "Requirement already satisfied: pyasn1<0.6.0,>=0.4.6 in /usr/local/lib/python3.10/dist-packages (from pyasn1-modules>=0.2.1->google-auth>=1.0.1->kubernetes>=28.1.0->chromadb) (0.5.0)\n",
            "Requirement already satisfied: tiktoken in /usr/local/lib/python3.10/dist-packages (0.5.1)\n",
            "Requirement already satisfied: regex>=2022.1.18 in /usr/local/lib/python3.10/dist-packages (from tiktoken) (2023.6.3)\n",
            "Requirement already satisfied: requests>=2.26.0 in /usr/local/lib/python3.10/dist-packages (from tiktoken) (2.31.0)\n",
            "Requirement already satisfied: charset-normalizer<4,>=2 in /usr/local/lib/python3.10/dist-packages (from requests>=2.26.0->tiktoken) (3.3.1)\n",
            "Requirement already satisfied: idna<4,>=2.5 in /usr/local/lib/python3.10/dist-packages (from requests>=2.26.0->tiktoken) (3.4)\n",
            "Requirement already satisfied: urllib3<3,>=1.21.1 in /usr/local/lib/python3.10/dist-packages (from requests>=2.26.0->tiktoken) (1.26.18)\n",
            "Requirement already satisfied: certifi>=2017.4.17 in /usr/local/lib/python3.10/dist-packages (from requests>=2.26.0->tiktoken) (2023.7.22)\n"
          ]
        }
      ],
      "source": [
        "!pip install openai==0.28.1\n",
        "!pip install langchain\n",
        "!pip install chromadb\n",
        "!pip install tiktoken"
      ]
    },
    {
      "cell_type": "markdown",
      "source": [
        "# Imports"
      ],
      "metadata": {
        "id": "egZikP5wsX1U"
      }
    },
    {
      "cell_type": "code",
      "source": [
        "import openai\n",
        "import os\n",
        "import getpass\n",
        "import tiktoken\n",
        "from google.colab import drive\n",
        "import pandas as pd\n",
        "\n",
        "from langchain.vectorstores import Chroma\n",
        "from langchain.embeddings import OpenAIEmbeddings\n",
        "from langchain.chains import RetrievalQA\n",
        "from langchain.prompts import PromptTemplate\n",
        "from langchain.chat_models import ChatOpenAI"
      ],
      "metadata": {
        "id": "5uo2czn-OYUm"
      },
      "execution_count": 2,
      "outputs": []
    },
    {
      "cell_type": "markdown",
      "source": [
        "# Testando Biblioteca OpenAI"
      ],
      "metadata": {
        "id": "138yLIfOsip9"
      }
    },
    {
      "cell_type": "code",
      "source": [
        "secret_key = getpass.getpass(prompt=\"OpenAI Secret Key: \")"
      ],
      "metadata": {
        "id": "m22DRup4UoMG"
      },
      "execution_count": null,
      "outputs": []
    },
    {
      "cell_type": "code",
      "source": [
        "openai.api_key = secret_key\n",
        "\n",
        "modelo_teste = openai.ChatCompletion.create(\n",
        "  model=\"gpt-3.5-turbo\",\n",
        "  messages=[\n",
        "    {\"role\": \"system\", \"content\": \"Você é um estudante da Universidade Estadual de Campinas, apaixonado por esta instituição. Você sabe fornecer todas as informações sobre os cursos e o vestibular.\"},\n",
        "    {\"role\": \"user\", \"content\": \"Será que eu presto direito ou medicina?\"}\n",
        "  ]\n",
        ")\n",
        "\n",
        "opcoes = modelo_teste.choices"
      ],
      "metadata": {
        "id": "liioSNVwY_6o"
      },
      "execution_count": null,
      "outputs": []
    },
    {
      "cell_type": "code",
      "source": [
        "opcoes[0].message"
      ],
      "metadata": {
        "id": "eRZaHv0JacWk"
      },
      "execution_count": null,
      "outputs": []
    },
    {
      "cell_type": "markdown",
      "source": [
        "# Contando Tokens"
      ],
      "metadata": {
        "id": "_osLIaEvsEzi"
      }
    },
    {
      "cell_type": "code",
      "source": [
        "tokenizer = tiktoken.get_encoding(\"cl100k_base\")\n",
        "print(len(tokenizer.encode(\"era uma vez um gato xadrez\")))"
      ],
      "metadata": {
        "colab": {
          "base_uri": "https://localhost:8080/"
        },
        "id": "7QM_elLYTZ0C",
        "outputId": "bf8d4bae-6602-4fbc-a19d-fdca8020eebe"
      },
      "execution_count": 3,
      "outputs": [
        {
          "output_type": "stream",
          "name": "stdout",
          "text": [
            "9\n"
          ]
        }
      ]
    },
    {
      "cell_type": "code",
      "source": [
        "texto = \"\"\"Redução Parcial da Taxa de Inscrição do VU 2024\n",
        "\n",
        "Art. 5º A inscrição no VU 2024, com redução parcial de Taxa de Inscrição, somente se efetivará com a realização do pagamento do valor correspondente a 50% da Taxa de Inscrição.\n",
        "\n",
        "Art. 6º Os(as) candidatos(as) beneficiados(as) pela redução parcial da taxa de que trata o §2º deverão proceder à posterior inscrição no VU 2024, nos termos do art. 4 desta Resolução, sendo que o boleto bancário emitido ao final do preenchimento do Formulário de Inscrição já será impresso com o valor da redução. \"\"\"\n",
        "print(len(tokenizer.encode(texto)))"
      ],
      "metadata": {
        "colab": {
          "base_uri": "https://localhost:8080/"
        },
        "id": "wGW7kzzBLOUA",
        "outputId": "dbdac0cc-fa1e-436b-edc3-e07d397ceec0"
      },
      "execution_count": 85,
      "outputs": [
        {
          "output_type": "stream",
          "name": "stdout",
          "text": [
            "171\n"
          ]
        }
      ]
    },
    {
      "cell_type": "markdown",
      "source": [
        "# Segmentando o Texto"
      ],
      "metadata": {
        "id": "-mln9BQ-tGfc"
      }
    },
    {
      "cell_type": "code",
      "source": [
        "drive.mount('/content/drive')"
      ],
      "metadata": {
        "colab": {
          "base_uri": "https://localhost:8080/"
        },
        "id": "2ArpsavIuqQ6",
        "outputId": "8a1717db-949a-4770-c6d4-fe3a3964b52c"
      },
      "execution_count": 4,
      "outputs": [
        {
          "output_type": "stream",
          "name": "stdout",
          "text": [
            "Drive already mounted at /content/drive; to attempt to forcibly remount, call drive.mount(\"/content/drive\", force_remount=True).\n"
          ]
        }
      ]
    },
    {
      "cell_type": "code",
      "source": [
        "%ls"
      ],
      "metadata": {
        "colab": {
          "base_uri": "https://localhost:8080/"
        },
        "id": "EFwd2PDtequZ",
        "outputId": "ddede6f9-14cb-4923-e9a4-67e38dc924f0"
      },
      "execution_count": 5,
      "outputs": [
        {
          "output_type": "stream",
          "name": "stdout",
          "text": [
            "\u001b[0m\u001b[01;34mdrive\u001b[0m/  \u001b[01;34msample_data\u001b[0m/\n"
          ]
        }
      ]
    },
    {
      "cell_type": "code",
      "source": [
        "%cd drive/MyDrive/Projeto\\ NeuralMind"
      ],
      "metadata": {
        "colab": {
          "base_uri": "https://localhost:8080/"
        },
        "id": "5-o5Sk24u6v-",
        "outputId": "a67481e2-336a-482f-93e5-90533fdfa92b"
      },
      "execution_count": 6,
      "outputs": [
        {
          "output_type": "stream",
          "name": "stdout",
          "text": [
            "/content/drive/MyDrive/Projeto NeuralMind\n"
          ]
        }
      ]
    },
    {
      "cell_type": "code",
      "source": [
        "tabela = pd.read_csv(\"Vestibular.csv\",index_col=0)"
      ],
      "metadata": {
        "id": "Z6-M9VJwtTxN"
      },
      "execution_count": 7,
      "outputs": []
    },
    {
      "cell_type": "code",
      "source": [
        "tabela['tokenizados'] = tabela['Textos'].apply(tokenizer.encode)"
      ],
      "metadata": {
        "id": "v6De6rDSvPFy"
      },
      "execution_count": 8,
      "outputs": []
    },
    {
      "cell_type": "code",
      "source": [
        "tabela['n_tokens'] = tabela['tokenizados'].apply(lambda x: len(x))"
      ],
      "metadata": {
        "id": "pWHH_6pj2YtM"
      },
      "execution_count": 9,
      "outputs": []
    },
    {
      "cell_type": "code",
      "source": [
        "tamanhos = sorted(tabela.n_tokens,reverse=True)"
      ],
      "metadata": {
        "id": "4rNtrp_E3RFi"
      },
      "execution_count": 17,
      "outputs": []
    },
    {
      "cell_type": "code",
      "source": [
        "textos = tabela.Textos.tolist()"
      ],
      "metadata": {
        "id": "cuaG2LWuJ68P"
      },
      "execution_count": 156,
      "outputs": []
    },
    {
      "cell_type": "code",
      "source": [
        "tamanhos = tabela.n_tokens.tolist()"
      ],
      "metadata": {
        "id": "Ii0YcsmUHWsD"
      },
      "execution_count": 157,
      "outputs": []
    },
    {
      "cell_type": "code",
      "source": [
        "id_maiores = sorted(range(len(textos)),reverse=True,key= lambda x: tamanhos[x])"
      ],
      "metadata": {
        "id": "kzURVO4_G2R_"
      },
      "execution_count": 158,
      "outputs": []
    },
    {
      "cell_type": "code",
      "source": [
        "id_maiores[:10]"
      ],
      "metadata": {
        "colab": {
          "base_uri": "https://localhost:8080/"
        },
        "id": "kEaywBNaJLMo",
        "outputId": "bdd86e30-5388-4ccb-e518-5c7131e1b88c"
      },
      "execution_count": 159,
      "outputs": [
        {
          "output_type": "execute_result",
          "data": {
            "text/plain": [
              "[28, 17, 24, 30, 40, 10, 38, 11, 2, 13]"
            ]
          },
          "metadata": {},
          "execution_count": 159
        }
      ]
    },
    {
      "cell_type": "code",
      "source": [
        "tabela.sort_values('n_tokens',ascending=False).iloc[:20]"
      ],
      "metadata": {
        "colab": {
          "base_uri": "https://localhost:8080/",
          "height": 708
        },
        "id": "vr2MWSP0JnR5",
        "outputId": "091e74f6-fcaf-4dbc-afb9-83cd75e234c6"
      },
      "execution_count": 10,
      "outputs": [
        {
          "output_type": "execute_result",
          "data": {
            "text/plain": [
              "                                           Artigo Completo  \\\n",
              "Retirar                                                      \n",
              "5        Art. 25 Para o cálculo da nota final do(a) can...   \n",
              "6        Art. 34 A matrícula dos(as) candidatos(as) con...   \n",
              "NaN                                                    NaN   \n",
              "NaN                                                    NaN   \n",
              "NaN                                                    NaN   \n",
              "NaN                                                    NaN   \n",
              "NaN                                                    NaN   \n",
              "NaN                      LITERATURAS DE LÍNGUA PORTUGUESA    \n",
              "NaN                                                    NaN   \n",
              "NaN                                                    NaN   \n",
              "NaN                                                    NaN   \n",
              "NaN                                                    NaN   \n",
              "NaN                                                    NaN   \n",
              "NaN                                                    NaN   \n",
              "NaN                                                    NaN   \n",
              "NaN                                                    NaN   \n",
              "NaN                                                    NaN   \n",
              "NaN                                                    NaN   \n",
              "NaN                                                    NaN   \n",
              "NaN                                                    NaN   \n",
              "\n",
              "                                                    Textos  \\\n",
              "Retirar                                                      \n",
              "5        Art. 25 Para o cálculo da nota final do(a) can...   \n",
              "6        Art. 34 A matrícula dos(as) candidatos(as) con...   \n",
              "NaN      PROVAS DE HABILIDADES ESPECÍFICAS\\r\\n\\r\\nCURSO...   \n",
              "NaN      PROVAS DE HABILIDADES ESPECÍFICAS\\r\\n\\r\\nCURSO...   \n",
              "NaN      PROVAS DE HABILIDADES ESPECÍFICAS\\r\\n\\r\\nCURSO...   \n",
              "NaN      PROVAS DE HABILIDADES ESPECÍFICAS\\r\\n\\r\\nCURSO...   \n",
              "NaN      PROVAS DE HABILIDADES ESPECÍFICAS\\r\\n\\r\\nCURSO...   \n",
              "NaN      PROGRAMA DAS PROVAS\\r\\n\\r\\nLITERATURAS DE LÍNG...   \n",
              "NaN      PROVAS DE HABILIDADES ESPECÍFICAS\\r\\n\\r\\nCURSO...   \n",
              "NaN      PROVAS DE HABILIDADES ESPECÍFICAS\\r\\n\\r\\nCURSO...   \n",
              "NaN      PROVAS DE HABILIDADES ESPECÍFICAS\\r\\n\\r\\nCURSO...   \n",
              "NaN      PROGRAMA DAS PROVAS\\r\\n\\r\\nGEOGRAFIA \\r\\n\\r\\nb...   \n",
              "NaN      PROGRAMA DAS PROVAS GEOGRAFIA \\n\\na) Conjunto ...   \n",
              "NaN      PROVAS DE HABILIDADES ESPECÍFICAS\\r\\n\\r\\nCURSO...   \n",
              "NaN      PROVAS DE HABILIDADES ESPECÍFICAS\\r\\n\\r\\nCURSO...   \n",
              "NaN      PROVAS DE HABILIDADES ESPECÍFICAS\\r\\n\\r\\nCURSO...   \n",
              "NaN      PROVAS DE HABILIDADES ESPECÍFICAS\\r\\n\\r\\nCURSO...   \n",
              "NaN      PROVAS DE HABILIDADES ESPECÍFICAS\\r\\n\\r\\nCURSO...   \n",
              "NaN      PROVAS DE HABILIDADES ESPECÍFICAS\\r\\n\\r\\nCURSO...   \n",
              "NaN      PROGRAMA DAS PROVAS\\n\\nGEOGRAFIA \\n\\nb) Índice...   \n",
              "\n",
              "                                               tokenizados  n_tokens  \n",
              "Retirar                                                               \n",
              "5        [9470, 13, 220, 914, 23850, 297, 272, 19540, 6...       804  \n",
              "6        [9470, 13, 220, 1958, 362, 5634, 81, 27235, 64...       802  \n",
              "NaN      [9295, 63380, 3467, 473, 1905, 1750, 97365, 50...       782  \n",
              "NaN      [9295, 63380, 3467, 473, 1905, 1750, 97365, 50...       748  \n",
              "NaN      [9295, 63380, 3467, 473, 1905, 1750, 97365, 50...       739  \n",
              "NaN      [9295, 63380, 3467, 473, 1905, 1750, 97365, 50...       726  \n",
              "NaN      [9295, 63380, 3467, 473, 1905, 1750, 97365, 50...       723  \n",
              "NaN      [81929, 32, 423, 1950, 5421, 63380, 881, 43, 2...       698  \n",
              "NaN      [9295, 63380, 3467, 473, 1905, 1750, 97365, 50...       693  \n",
              "NaN      [9295, 63380, 3467, 473, 1905, 1750, 97365, 50...       692  \n",
              "NaN      [9295, 63380, 3467, 473, 1905, 1750, 97365, 50...       654  \n",
              "NaN      [81929, 32, 423, 1950, 5421, 63380, 881, 38, 6...       651  \n",
              "NaN      [81929, 32, 423, 1950, 5421, 63380, 86209, 480...       648  \n",
              "NaN      [9295, 63380, 3467, 473, 1905, 1750, 97365, 50...       633  \n",
              "NaN      [9295, 63380, 3467, 473, 1905, 1750, 97365, 50...       625  \n",
              "NaN      [9295, 63380, 3467, 473, 1905, 1750, 97365, 50...       625  \n",
              "NaN      [9295, 63380, 3467, 473, 1905, 1750, 97365, 50...       624  \n",
              "NaN      [9295, 63380, 3467, 473, 1905, 1750, 97365, 50...       608  \n",
              "NaN      [9295, 63380, 3467, 473, 1905, 1750, 97365, 50...       592  \n",
              "NaN      [81929, 32, 423, 1950, 5421, 63380, 271, 38, 6...       579  "
            ],
            "text/html": [
              "\n",
              "  <div id=\"df-9fe91ab0-3680-49e6-a62e-de259d973ace\" class=\"colab-df-container\">\n",
              "    <div>\n",
              "<style scoped>\n",
              "    .dataframe tbody tr th:only-of-type {\n",
              "        vertical-align: middle;\n",
              "    }\n",
              "\n",
              "    .dataframe tbody tr th {\n",
              "        vertical-align: top;\n",
              "    }\n",
              "\n",
              "    .dataframe thead th {\n",
              "        text-align: right;\n",
              "    }\n",
              "</style>\n",
              "<table border=\"1\" class=\"dataframe\">\n",
              "  <thead>\n",
              "    <tr style=\"text-align: right;\">\n",
              "      <th></th>\n",
              "      <th>Artigo Completo</th>\n",
              "      <th>Textos</th>\n",
              "      <th>tokenizados</th>\n",
              "      <th>n_tokens</th>\n",
              "    </tr>\n",
              "    <tr>\n",
              "      <th>Retirar</th>\n",
              "      <th></th>\n",
              "      <th></th>\n",
              "      <th></th>\n",
              "      <th></th>\n",
              "    </tr>\n",
              "  </thead>\n",
              "  <tbody>\n",
              "    <tr>\n",
              "      <th>5</th>\n",
              "      <td>Art. 25 Para o cálculo da nota final do(a) can...</td>\n",
              "      <td>Art. 25 Para o cálculo da nota final do(a) can...</td>\n",
              "      <td>[9470, 13, 220, 914, 23850, 297, 272, 19540, 6...</td>\n",
              "      <td>804</td>\n",
              "    </tr>\n",
              "    <tr>\n",
              "      <th>6</th>\n",
              "      <td>Art. 34 A matrícula dos(as) candidatos(as) con...</td>\n",
              "      <td>Art. 34 A matrícula dos(as) candidatos(as) con...</td>\n",
              "      <td>[9470, 13, 220, 1958, 362, 5634, 81, 27235, 64...</td>\n",
              "      <td>802</td>\n",
              "    </tr>\n",
              "    <tr>\n",
              "      <th>NaN</th>\n",
              "      <td>NaN</td>\n",
              "      <td>PROVAS DE HABILIDADES ESPECÍFICAS\\r\\n\\r\\nCURSO...</td>\n",
              "      <td>[9295, 63380, 3467, 473, 1905, 1750, 97365, 50...</td>\n",
              "      <td>782</td>\n",
              "    </tr>\n",
              "    <tr>\n",
              "      <th>NaN</th>\n",
              "      <td>NaN</td>\n",
              "      <td>PROVAS DE HABILIDADES ESPECÍFICAS\\r\\n\\r\\nCURSO...</td>\n",
              "      <td>[9295, 63380, 3467, 473, 1905, 1750, 97365, 50...</td>\n",
              "      <td>748</td>\n",
              "    </tr>\n",
              "    <tr>\n",
              "      <th>NaN</th>\n",
              "      <td>NaN</td>\n",
              "      <td>PROVAS DE HABILIDADES ESPECÍFICAS\\r\\n\\r\\nCURSO...</td>\n",
              "      <td>[9295, 63380, 3467, 473, 1905, 1750, 97365, 50...</td>\n",
              "      <td>739</td>\n",
              "    </tr>\n",
              "    <tr>\n",
              "      <th>NaN</th>\n",
              "      <td>NaN</td>\n",
              "      <td>PROVAS DE HABILIDADES ESPECÍFICAS\\r\\n\\r\\nCURSO...</td>\n",
              "      <td>[9295, 63380, 3467, 473, 1905, 1750, 97365, 50...</td>\n",
              "      <td>726</td>\n",
              "    </tr>\n",
              "    <tr>\n",
              "      <th>NaN</th>\n",
              "      <td>NaN</td>\n",
              "      <td>PROVAS DE HABILIDADES ESPECÍFICAS\\r\\n\\r\\nCURSO...</td>\n",
              "      <td>[9295, 63380, 3467, 473, 1905, 1750, 97365, 50...</td>\n",
              "      <td>723</td>\n",
              "    </tr>\n",
              "    <tr>\n",
              "      <th>NaN</th>\n",
              "      <td>LITERATURAS DE LÍNGUA PORTUGUESA</td>\n",
              "      <td>PROGRAMA DAS PROVAS\\r\\n\\r\\nLITERATURAS DE LÍNG...</td>\n",
              "      <td>[81929, 32, 423, 1950, 5421, 63380, 881, 43, 2...</td>\n",
              "      <td>698</td>\n",
              "    </tr>\n",
              "    <tr>\n",
              "      <th>NaN</th>\n",
              "      <td>NaN</td>\n",
              "      <td>PROVAS DE HABILIDADES ESPECÍFICAS\\r\\n\\r\\nCURSO...</td>\n",
              "      <td>[9295, 63380, 3467, 473, 1905, 1750, 97365, 50...</td>\n",
              "      <td>693</td>\n",
              "    </tr>\n",
              "    <tr>\n",
              "      <th>NaN</th>\n",
              "      <td>NaN</td>\n",
              "      <td>PROVAS DE HABILIDADES ESPECÍFICAS\\r\\n\\r\\nCURSO...</td>\n",
              "      <td>[9295, 63380, 3467, 473, 1905, 1750, 97365, 50...</td>\n",
              "      <td>692</td>\n",
              "    </tr>\n",
              "    <tr>\n",
              "      <th>NaN</th>\n",
              "      <td>NaN</td>\n",
              "      <td>PROVAS DE HABILIDADES ESPECÍFICAS\\r\\n\\r\\nCURSO...</td>\n",
              "      <td>[9295, 63380, 3467, 473, 1905, 1750, 97365, 50...</td>\n",
              "      <td>654</td>\n",
              "    </tr>\n",
              "    <tr>\n",
              "      <th>NaN</th>\n",
              "      <td>NaN</td>\n",
              "      <td>PROGRAMA DAS PROVAS\\r\\n\\r\\nGEOGRAFIA \\r\\n\\r\\nb...</td>\n",
              "      <td>[81929, 32, 423, 1950, 5421, 63380, 881, 38, 6...</td>\n",
              "      <td>651</td>\n",
              "    </tr>\n",
              "    <tr>\n",
              "      <th>NaN</th>\n",
              "      <td>NaN</td>\n",
              "      <td>PROGRAMA DAS PROVAS GEOGRAFIA \\n\\na) Conjunto ...</td>\n",
              "      <td>[81929, 32, 423, 1950, 5421, 63380, 86209, 480...</td>\n",
              "      <td>648</td>\n",
              "    </tr>\n",
              "    <tr>\n",
              "      <th>NaN</th>\n",
              "      <td>NaN</td>\n",
              "      <td>PROVAS DE HABILIDADES ESPECÍFICAS\\r\\n\\r\\nCURSO...</td>\n",
              "      <td>[9295, 63380, 3467, 473, 1905, 1750, 97365, 50...</td>\n",
              "      <td>633</td>\n",
              "    </tr>\n",
              "    <tr>\n",
              "      <th>NaN</th>\n",
              "      <td>NaN</td>\n",
              "      <td>PROVAS DE HABILIDADES ESPECÍFICAS\\r\\n\\r\\nCURSO...</td>\n",
              "      <td>[9295, 63380, 3467, 473, 1905, 1750, 97365, 50...</td>\n",
              "      <td>625</td>\n",
              "    </tr>\n",
              "    <tr>\n",
              "      <th>NaN</th>\n",
              "      <td>NaN</td>\n",
              "      <td>PROVAS DE HABILIDADES ESPECÍFICAS\\r\\n\\r\\nCURSO...</td>\n",
              "      <td>[9295, 63380, 3467, 473, 1905, 1750, 97365, 50...</td>\n",
              "      <td>625</td>\n",
              "    </tr>\n",
              "    <tr>\n",
              "      <th>NaN</th>\n",
              "      <td>NaN</td>\n",
              "      <td>PROVAS DE HABILIDADES ESPECÍFICAS\\r\\n\\r\\nCURSO...</td>\n",
              "      <td>[9295, 63380, 3467, 473, 1905, 1750, 97365, 50...</td>\n",
              "      <td>624</td>\n",
              "    </tr>\n",
              "    <tr>\n",
              "      <th>NaN</th>\n",
              "      <td>NaN</td>\n",
              "      <td>PROVAS DE HABILIDADES ESPECÍFICAS\\r\\n\\r\\nCURSO...</td>\n",
              "      <td>[9295, 63380, 3467, 473, 1905, 1750, 97365, 50...</td>\n",
              "      <td>608</td>\n",
              "    </tr>\n",
              "    <tr>\n",
              "      <th>NaN</th>\n",
              "      <td>NaN</td>\n",
              "      <td>PROVAS DE HABILIDADES ESPECÍFICAS\\r\\n\\r\\nCURSO...</td>\n",
              "      <td>[9295, 63380, 3467, 473, 1905, 1750, 97365, 50...</td>\n",
              "      <td>592</td>\n",
              "    </tr>\n",
              "    <tr>\n",
              "      <th>NaN</th>\n",
              "      <td>NaN</td>\n",
              "      <td>PROGRAMA DAS PROVAS\\n\\nGEOGRAFIA \\n\\nb) Índice...</td>\n",
              "      <td>[81929, 32, 423, 1950, 5421, 63380, 271, 38, 6...</td>\n",
              "      <td>579</td>\n",
              "    </tr>\n",
              "  </tbody>\n",
              "</table>\n",
              "</div>\n",
              "    <div class=\"colab-df-buttons\">\n",
              "\n",
              "  <div class=\"colab-df-container\">\n",
              "    <button class=\"colab-df-convert\" onclick=\"convertToInteractive('df-9fe91ab0-3680-49e6-a62e-de259d973ace')\"\n",
              "            title=\"Convert this dataframe to an interactive table.\"\n",
              "            style=\"display:none;\">\n",
              "\n",
              "  <svg xmlns=\"http://www.w3.org/2000/svg\" height=\"24px\" viewBox=\"0 -960 960 960\">\n",
              "    <path d=\"M120-120v-720h720v720H120Zm60-500h600v-160H180v160Zm220 220h160v-160H400v160Zm0 220h160v-160H400v160ZM180-400h160v-160H180v160Zm440 0h160v-160H620v160ZM180-180h160v-160H180v160Zm440 0h160v-160H620v160Z\"/>\n",
              "  </svg>\n",
              "    </button>\n",
              "\n",
              "  <style>\n",
              "    .colab-df-container {\n",
              "      display:flex;\n",
              "      gap: 12px;\n",
              "    }\n",
              "\n",
              "    .colab-df-convert {\n",
              "      background-color: #E8F0FE;\n",
              "      border: none;\n",
              "      border-radius: 50%;\n",
              "      cursor: pointer;\n",
              "      display: none;\n",
              "      fill: #1967D2;\n",
              "      height: 32px;\n",
              "      padding: 0 0 0 0;\n",
              "      width: 32px;\n",
              "    }\n",
              "\n",
              "    .colab-df-convert:hover {\n",
              "      background-color: #E2EBFA;\n",
              "      box-shadow: 0px 1px 2px rgba(60, 64, 67, 0.3), 0px 1px 3px 1px rgba(60, 64, 67, 0.15);\n",
              "      fill: #174EA6;\n",
              "    }\n",
              "\n",
              "    .colab-df-buttons div {\n",
              "      margin-bottom: 4px;\n",
              "    }\n",
              "\n",
              "    [theme=dark] .colab-df-convert {\n",
              "      background-color: #3B4455;\n",
              "      fill: #D2E3FC;\n",
              "    }\n",
              "\n",
              "    [theme=dark] .colab-df-convert:hover {\n",
              "      background-color: #434B5C;\n",
              "      box-shadow: 0px 1px 3px 1px rgba(0, 0, 0, 0.15);\n",
              "      filter: drop-shadow(0px 1px 2px rgba(0, 0, 0, 0.3));\n",
              "      fill: #FFFFFF;\n",
              "    }\n",
              "  </style>\n",
              "\n",
              "    <script>\n",
              "      const buttonEl =\n",
              "        document.querySelector('#df-9fe91ab0-3680-49e6-a62e-de259d973ace button.colab-df-convert');\n",
              "      buttonEl.style.display =\n",
              "        google.colab.kernel.accessAllowed ? 'block' : 'none';\n",
              "\n",
              "      async function convertToInteractive(key) {\n",
              "        const element = document.querySelector('#df-9fe91ab0-3680-49e6-a62e-de259d973ace');\n",
              "        const dataTable =\n",
              "          await google.colab.kernel.invokeFunction('convertToInteractive',\n",
              "                                                    [key], {});\n",
              "        if (!dataTable) return;\n",
              "\n",
              "        const docLinkHtml = 'Like what you see? Visit the ' +\n",
              "          '<a target=\"_blank\" href=https://colab.research.google.com/notebooks/data_table.ipynb>data table notebook</a>'\n",
              "          + ' to learn more about interactive tables.';\n",
              "        element.innerHTML = '';\n",
              "        dataTable['output_type'] = 'display_data';\n",
              "        await google.colab.output.renderOutput(dataTable, element);\n",
              "        const docLink = document.createElement('div');\n",
              "        docLink.innerHTML = docLinkHtml;\n",
              "        element.appendChild(docLink);\n",
              "      }\n",
              "    </script>\n",
              "  </div>\n",
              "\n",
              "\n",
              "<div id=\"df-f70951c4-cd6a-4d83-a399-fc4c8480a13f\">\n",
              "  <button class=\"colab-df-quickchart\" onclick=\"quickchart('df-f70951c4-cd6a-4d83-a399-fc4c8480a13f')\"\n",
              "            title=\"Suggest charts.\"\n",
              "            style=\"display:none;\">\n",
              "\n",
              "<svg xmlns=\"http://www.w3.org/2000/svg\" height=\"24px\"viewBox=\"0 0 24 24\"\n",
              "     width=\"24px\">\n",
              "    <g>\n",
              "        <path d=\"M19 3H5c-1.1 0-2 .9-2 2v14c0 1.1.9 2 2 2h14c1.1 0 2-.9 2-2V5c0-1.1-.9-2-2-2zM9 17H7v-7h2v7zm4 0h-2V7h2v10zm4 0h-2v-4h2v4z\"/>\n",
              "    </g>\n",
              "</svg>\n",
              "  </button>\n",
              "\n",
              "<style>\n",
              "  .colab-df-quickchart {\n",
              "      --bg-color: #E8F0FE;\n",
              "      --fill-color: #1967D2;\n",
              "      --hover-bg-color: #E2EBFA;\n",
              "      --hover-fill-color: #174EA6;\n",
              "      --disabled-fill-color: #AAA;\n",
              "      --disabled-bg-color: #DDD;\n",
              "  }\n",
              "\n",
              "  [theme=dark] .colab-df-quickchart {\n",
              "      --bg-color: #3B4455;\n",
              "      --fill-color: #D2E3FC;\n",
              "      --hover-bg-color: #434B5C;\n",
              "      --hover-fill-color: #FFFFFF;\n",
              "      --disabled-bg-color: #3B4455;\n",
              "      --disabled-fill-color: #666;\n",
              "  }\n",
              "\n",
              "  .colab-df-quickchart {\n",
              "    background-color: var(--bg-color);\n",
              "    border: none;\n",
              "    border-radius: 50%;\n",
              "    cursor: pointer;\n",
              "    display: none;\n",
              "    fill: var(--fill-color);\n",
              "    height: 32px;\n",
              "    padding: 0;\n",
              "    width: 32px;\n",
              "  }\n",
              "\n",
              "  .colab-df-quickchart:hover {\n",
              "    background-color: var(--hover-bg-color);\n",
              "    box-shadow: 0 1px 2px rgba(60, 64, 67, 0.3), 0 1px 3px 1px rgba(60, 64, 67, 0.15);\n",
              "    fill: var(--button-hover-fill-color);\n",
              "  }\n",
              "\n",
              "  .colab-df-quickchart-complete:disabled,\n",
              "  .colab-df-quickchart-complete:disabled:hover {\n",
              "    background-color: var(--disabled-bg-color);\n",
              "    fill: var(--disabled-fill-color);\n",
              "    box-shadow: none;\n",
              "  }\n",
              "\n",
              "  .colab-df-spinner {\n",
              "    border: 2px solid var(--fill-color);\n",
              "    border-color: transparent;\n",
              "    border-bottom-color: var(--fill-color);\n",
              "    animation:\n",
              "      spin 1s steps(1) infinite;\n",
              "  }\n",
              "\n",
              "  @keyframes spin {\n",
              "    0% {\n",
              "      border-color: transparent;\n",
              "      border-bottom-color: var(--fill-color);\n",
              "      border-left-color: var(--fill-color);\n",
              "    }\n",
              "    20% {\n",
              "      border-color: transparent;\n",
              "      border-left-color: var(--fill-color);\n",
              "      border-top-color: var(--fill-color);\n",
              "    }\n",
              "    30% {\n",
              "      border-color: transparent;\n",
              "      border-left-color: var(--fill-color);\n",
              "      border-top-color: var(--fill-color);\n",
              "      border-right-color: var(--fill-color);\n",
              "    }\n",
              "    40% {\n",
              "      border-color: transparent;\n",
              "      border-right-color: var(--fill-color);\n",
              "      border-top-color: var(--fill-color);\n",
              "    }\n",
              "    60% {\n",
              "      border-color: transparent;\n",
              "      border-right-color: var(--fill-color);\n",
              "    }\n",
              "    80% {\n",
              "      border-color: transparent;\n",
              "      border-right-color: var(--fill-color);\n",
              "      border-bottom-color: var(--fill-color);\n",
              "    }\n",
              "    90% {\n",
              "      border-color: transparent;\n",
              "      border-bottom-color: var(--fill-color);\n",
              "    }\n",
              "  }\n",
              "</style>\n",
              "\n",
              "  <script>\n",
              "    async function quickchart(key) {\n",
              "      const quickchartButtonEl =\n",
              "        document.querySelector('#' + key + ' button');\n",
              "      quickchartButtonEl.disabled = true;  // To prevent multiple clicks.\n",
              "      quickchartButtonEl.classList.add('colab-df-spinner');\n",
              "      try {\n",
              "        const charts = await google.colab.kernel.invokeFunction(\n",
              "            'suggestCharts', [key], {});\n",
              "      } catch (error) {\n",
              "        console.error('Error during call to suggestCharts:', error);\n",
              "      }\n",
              "      quickchartButtonEl.classList.remove('colab-df-spinner');\n",
              "      quickchartButtonEl.classList.add('colab-df-quickchart-complete');\n",
              "    }\n",
              "    (() => {\n",
              "      let quickchartButtonEl =\n",
              "        document.querySelector('#df-f70951c4-cd6a-4d83-a399-fc4c8480a13f button');\n",
              "      quickchartButtonEl.style.display =\n",
              "        google.colab.kernel.accessAllowed ? 'block' : 'none';\n",
              "    })();\n",
              "  </script>\n",
              "</div>\n",
              "    </div>\n",
              "  </div>\n"
            ]
          },
          "metadata": {},
          "execution_count": 10
        }
      ]
    },
    {
      "cell_type": "code",
      "source": [
        "tabela.drop('retirar',axis=0,inplace=True)"
      ],
      "metadata": {
        "id": "hYJhwRLGfLt-"
      },
      "execution_count": 11,
      "outputs": []
    },
    {
      "cell_type": "code",
      "source": [
        "tabela"
      ],
      "metadata": {
        "colab": {
          "base_uri": "https://localhost:8080/",
          "height": 455
        },
        "id": "duESK-yKftrK",
        "outputId": "bc2dd89c-b970-4472-fbb7-74843535820f"
      },
      "execution_count": 74,
      "outputs": [
        {
          "output_type": "execute_result",
          "data": {
            "text/plain": [
              "                                           Artigo Completo  \\\n",
              "Retirar                                                      \n",
              "retirar                                                NaN   \n",
              "retirar                                                NaN   \n",
              "1        \"Art. 1º Para o ano de 2024 são oferecidas 334...   \n",
              "1        \"Art. 1º Para o ano de 2024 são oferecidas 334...   \n",
              "1                                                      NaN   \n",
              "...                                                    ...   \n",
              "NaN                                                    NaN   \n",
              "NaN                                                    NaN   \n",
              "NaN                                                    NaN   \n",
              "NaN                                                    NaN   \n",
              "NaN                                                    NaN   \n",
              "\n",
              "                                                    Textos  \\\n",
              "Retirar                                                      \n",
              "retirar  Resolução GR-031/2023, de 13/07/2023\\r\\nReitor...   \n",
              "retirar  Capítulo I - Vagas e sistemas de ingresso à Gr...   \n",
              "1        Art. 1º Para o ano de 2024 são oferecidas 3340...   \n",
              "1        §1º As vagas regulares não preenchidas nos inc...   \n",
              "1        Art. 2º A presente Resolução especifica as reg...   \n",
              "...                                                    ...   \n",
              "NaN      PROGRAMA DAS PROVAS\\r\\n\\r\\nFÍSICA \\r\\n\\r\\nb) Í...   \n",
              "NaN      PROGRAMA DAS PROVAS\\r\\n\\r\\nQUÍMICA \\r\\n\\r\\na) ...   \n",
              "NaN      PROGRAMA DAS PROVAS\\r\\n\\r\\nQUÍMICA \\r\\n\\r\\nb) ...   \n",
              "NaN      PROGRAMA DAS PROVAS\\r\\n\\r\\nQUÍMICA \\r\\n\\r\\nb) ...   \n",
              "NaN      PROGRAMA DAS PROVAS\\r\\n\\r\\nQUÍMICA \\r\\n\\r\\nb) ...   \n",
              "\n",
              "                                               tokenizados  n_tokens  \n",
              "Retirar                                                               \n",
              "retirar  [1079, 44906, 6027, 15116, 12, 18887, 14, 2366...       149  \n",
              "retirar  [13199, 51361, 358, 482, 650, 86152, 384, 8924...        15  \n",
              "1        [9470, 13, 220, 16, 29300, 23850, 297, 39124, ...       269  \n",
              "1        [18332, 16, 29300, 1666, 17764, 300, 14420, 55...       315  \n",
              "1        [9470, 13, 220, 17, 29300, 362, 54272, 1838, 4...        24  \n",
              "...                                                    ...       ...  \n",
              "NaN      [81929, 32, 423, 1950, 5421, 63380, 881, 37, 5...       476  \n",
              "NaN      [81929, 32, 423, 1950, 5421, 63380, 881, 5876,...       303  \n",
              "NaN      [81929, 32, 423, 1950, 5421, 63380, 881, 5876,...       544  \n",
              "NaN      [81929, 32, 423, 1950, 5421, 63380, 881, 5876,...       408  \n",
              "NaN      [81929, 32, 423, 1950, 5421, 63380, 881, 5876,...       535  \n",
              "\n",
              "[154 rows x 4 columns]"
            ],
            "text/html": [
              "\n",
              "  <div id=\"df-0b503de3-9617-4dfc-b9bc-4e4840d0df48\" class=\"colab-df-container\">\n",
              "    <div>\n",
              "<style scoped>\n",
              "    .dataframe tbody tr th:only-of-type {\n",
              "        vertical-align: middle;\n",
              "    }\n",
              "\n",
              "    .dataframe tbody tr th {\n",
              "        vertical-align: top;\n",
              "    }\n",
              "\n",
              "    .dataframe thead th {\n",
              "        text-align: right;\n",
              "    }\n",
              "</style>\n",
              "<table border=\"1\" class=\"dataframe\">\n",
              "  <thead>\n",
              "    <tr style=\"text-align: right;\">\n",
              "      <th></th>\n",
              "      <th>Artigo Completo</th>\n",
              "      <th>Textos</th>\n",
              "      <th>tokenizados</th>\n",
              "      <th>n_tokens</th>\n",
              "    </tr>\n",
              "    <tr>\n",
              "      <th>Retirar</th>\n",
              "      <th></th>\n",
              "      <th></th>\n",
              "      <th></th>\n",
              "      <th></th>\n",
              "    </tr>\n",
              "  </thead>\n",
              "  <tbody>\n",
              "    <tr>\n",
              "      <th>retirar</th>\n",
              "      <td>NaN</td>\n",
              "      <td>Resolução GR-031/2023, de 13/07/2023\\r\\nReitor...</td>\n",
              "      <td>[1079, 44906, 6027, 15116, 12, 18887, 14, 2366...</td>\n",
              "      <td>149</td>\n",
              "    </tr>\n",
              "    <tr>\n",
              "      <th>retirar</th>\n",
              "      <td>NaN</td>\n",
              "      <td>Capítulo I - Vagas e sistemas de ingresso à Gr...</td>\n",
              "      <td>[13199, 51361, 358, 482, 650, 86152, 384, 8924...</td>\n",
              "      <td>15</td>\n",
              "    </tr>\n",
              "    <tr>\n",
              "      <th>1</th>\n",
              "      <td>\"Art. 1º Para o ano de 2024 são oferecidas 334...</td>\n",
              "      <td>Art. 1º Para o ano de 2024 são oferecidas 3340...</td>\n",
              "      <td>[9470, 13, 220, 16, 29300, 23850, 297, 39124, ...</td>\n",
              "      <td>269</td>\n",
              "    </tr>\n",
              "    <tr>\n",
              "      <th>1</th>\n",
              "      <td>\"Art. 1º Para o ano de 2024 são oferecidas 334...</td>\n",
              "      <td>§1º As vagas regulares não preenchidas nos inc...</td>\n",
              "      <td>[18332, 16, 29300, 1666, 17764, 300, 14420, 55...</td>\n",
              "      <td>315</td>\n",
              "    </tr>\n",
              "    <tr>\n",
              "      <th>1</th>\n",
              "      <td>NaN</td>\n",
              "      <td>Art. 2º A presente Resolução especifica as reg...</td>\n",
              "      <td>[9470, 13, 220, 17, 29300, 362, 54272, 1838, 4...</td>\n",
              "      <td>24</td>\n",
              "    </tr>\n",
              "    <tr>\n",
              "      <th>...</th>\n",
              "      <td>...</td>\n",
              "      <td>...</td>\n",
              "      <td>...</td>\n",
              "      <td>...</td>\n",
              "    </tr>\n",
              "    <tr>\n",
              "      <th>NaN</th>\n",
              "      <td>NaN</td>\n",
              "      <td>PROGRAMA DAS PROVAS\\r\\n\\r\\nFÍSICA \\r\\n\\r\\nb) Í...</td>\n",
              "      <td>[81929, 32, 423, 1950, 5421, 63380, 881, 37, 5...</td>\n",
              "      <td>476</td>\n",
              "    </tr>\n",
              "    <tr>\n",
              "      <th>NaN</th>\n",
              "      <td>NaN</td>\n",
              "      <td>PROGRAMA DAS PROVAS\\r\\n\\r\\nQUÍMICA \\r\\n\\r\\na) ...</td>\n",
              "      <td>[81929, 32, 423, 1950, 5421, 63380, 881, 5876,...</td>\n",
              "      <td>303</td>\n",
              "    </tr>\n",
              "    <tr>\n",
              "      <th>NaN</th>\n",
              "      <td>NaN</td>\n",
              "      <td>PROGRAMA DAS PROVAS\\r\\n\\r\\nQUÍMICA \\r\\n\\r\\nb) ...</td>\n",
              "      <td>[81929, 32, 423, 1950, 5421, 63380, 881, 5876,...</td>\n",
              "      <td>544</td>\n",
              "    </tr>\n",
              "    <tr>\n",
              "      <th>NaN</th>\n",
              "      <td>NaN</td>\n",
              "      <td>PROGRAMA DAS PROVAS\\r\\n\\r\\nQUÍMICA \\r\\n\\r\\nb) ...</td>\n",
              "      <td>[81929, 32, 423, 1950, 5421, 63380, 881, 5876,...</td>\n",
              "      <td>408</td>\n",
              "    </tr>\n",
              "    <tr>\n",
              "      <th>NaN</th>\n",
              "      <td>NaN</td>\n",
              "      <td>PROGRAMA DAS PROVAS\\r\\n\\r\\nQUÍMICA \\r\\n\\r\\nb) ...</td>\n",
              "      <td>[81929, 32, 423, 1950, 5421, 63380, 881, 5876,...</td>\n",
              "      <td>535</td>\n",
              "    </tr>\n",
              "  </tbody>\n",
              "</table>\n",
              "<p>154 rows × 4 columns</p>\n",
              "</div>\n",
              "    <div class=\"colab-df-buttons\">\n",
              "\n",
              "  <div class=\"colab-df-container\">\n",
              "    <button class=\"colab-df-convert\" onclick=\"convertToInteractive('df-0b503de3-9617-4dfc-b9bc-4e4840d0df48')\"\n",
              "            title=\"Convert this dataframe to an interactive table.\"\n",
              "            style=\"display:none;\">\n",
              "\n",
              "  <svg xmlns=\"http://www.w3.org/2000/svg\" height=\"24px\" viewBox=\"0 -960 960 960\">\n",
              "    <path d=\"M120-120v-720h720v720H120Zm60-500h600v-160H180v160Zm220 220h160v-160H400v160Zm0 220h160v-160H400v160ZM180-400h160v-160H180v160Zm440 0h160v-160H620v160ZM180-180h160v-160H180v160Zm440 0h160v-160H620v160Z\"/>\n",
              "  </svg>\n",
              "    </button>\n",
              "\n",
              "  <style>\n",
              "    .colab-df-container {\n",
              "      display:flex;\n",
              "      gap: 12px;\n",
              "    }\n",
              "\n",
              "    .colab-df-convert {\n",
              "      background-color: #E8F0FE;\n",
              "      border: none;\n",
              "      border-radius: 50%;\n",
              "      cursor: pointer;\n",
              "      display: none;\n",
              "      fill: #1967D2;\n",
              "      height: 32px;\n",
              "      padding: 0 0 0 0;\n",
              "      width: 32px;\n",
              "    }\n",
              "\n",
              "    .colab-df-convert:hover {\n",
              "      background-color: #E2EBFA;\n",
              "      box-shadow: 0px 1px 2px rgba(60, 64, 67, 0.3), 0px 1px 3px 1px rgba(60, 64, 67, 0.15);\n",
              "      fill: #174EA6;\n",
              "    }\n",
              "\n",
              "    .colab-df-buttons div {\n",
              "      margin-bottom: 4px;\n",
              "    }\n",
              "\n",
              "    [theme=dark] .colab-df-convert {\n",
              "      background-color: #3B4455;\n",
              "      fill: #D2E3FC;\n",
              "    }\n",
              "\n",
              "    [theme=dark] .colab-df-convert:hover {\n",
              "      background-color: #434B5C;\n",
              "      box-shadow: 0px 1px 3px 1px rgba(0, 0, 0, 0.15);\n",
              "      filter: drop-shadow(0px 1px 2px rgba(0, 0, 0, 0.3));\n",
              "      fill: #FFFFFF;\n",
              "    }\n",
              "  </style>\n",
              "\n",
              "    <script>\n",
              "      const buttonEl =\n",
              "        document.querySelector('#df-0b503de3-9617-4dfc-b9bc-4e4840d0df48 button.colab-df-convert');\n",
              "      buttonEl.style.display =\n",
              "        google.colab.kernel.accessAllowed ? 'block' : 'none';\n",
              "\n",
              "      async function convertToInteractive(key) {\n",
              "        const element = document.querySelector('#df-0b503de3-9617-4dfc-b9bc-4e4840d0df48');\n",
              "        const dataTable =\n",
              "          await google.colab.kernel.invokeFunction('convertToInteractive',\n",
              "                                                    [key], {});\n",
              "        if (!dataTable) return;\n",
              "\n",
              "        const docLinkHtml = 'Like what you see? Visit the ' +\n",
              "          '<a target=\"_blank\" href=https://colab.research.google.com/notebooks/data_table.ipynb>data table notebook</a>'\n",
              "          + ' to learn more about interactive tables.';\n",
              "        element.innerHTML = '';\n",
              "        dataTable['output_type'] = 'display_data';\n",
              "        await google.colab.output.renderOutput(dataTable, element);\n",
              "        const docLink = document.createElement('div');\n",
              "        docLink.innerHTML = docLinkHtml;\n",
              "        element.appendChild(docLink);\n",
              "      }\n",
              "    </script>\n",
              "  </div>\n",
              "\n",
              "\n",
              "<div id=\"df-a22b084a-462c-4347-8fc1-07137a8f8b0c\">\n",
              "  <button class=\"colab-df-quickchart\" onclick=\"quickchart('df-a22b084a-462c-4347-8fc1-07137a8f8b0c')\"\n",
              "            title=\"Suggest charts.\"\n",
              "            style=\"display:none;\">\n",
              "\n",
              "<svg xmlns=\"http://www.w3.org/2000/svg\" height=\"24px\"viewBox=\"0 0 24 24\"\n",
              "     width=\"24px\">\n",
              "    <g>\n",
              "        <path d=\"M19 3H5c-1.1 0-2 .9-2 2v14c0 1.1.9 2 2 2h14c1.1 0 2-.9 2-2V5c0-1.1-.9-2-2-2zM9 17H7v-7h2v7zm4 0h-2V7h2v10zm4 0h-2v-4h2v4z\"/>\n",
              "    </g>\n",
              "</svg>\n",
              "  </button>\n",
              "\n",
              "<style>\n",
              "  .colab-df-quickchart {\n",
              "      --bg-color: #E8F0FE;\n",
              "      --fill-color: #1967D2;\n",
              "      --hover-bg-color: #E2EBFA;\n",
              "      --hover-fill-color: #174EA6;\n",
              "      --disabled-fill-color: #AAA;\n",
              "      --disabled-bg-color: #DDD;\n",
              "  }\n",
              "\n",
              "  [theme=dark] .colab-df-quickchart {\n",
              "      --bg-color: #3B4455;\n",
              "      --fill-color: #D2E3FC;\n",
              "      --hover-bg-color: #434B5C;\n",
              "      --hover-fill-color: #FFFFFF;\n",
              "      --disabled-bg-color: #3B4455;\n",
              "      --disabled-fill-color: #666;\n",
              "  }\n",
              "\n",
              "  .colab-df-quickchart {\n",
              "    background-color: var(--bg-color);\n",
              "    border: none;\n",
              "    border-radius: 50%;\n",
              "    cursor: pointer;\n",
              "    display: none;\n",
              "    fill: var(--fill-color);\n",
              "    height: 32px;\n",
              "    padding: 0;\n",
              "    width: 32px;\n",
              "  }\n",
              "\n",
              "  .colab-df-quickchart:hover {\n",
              "    background-color: var(--hover-bg-color);\n",
              "    box-shadow: 0 1px 2px rgba(60, 64, 67, 0.3), 0 1px 3px 1px rgba(60, 64, 67, 0.15);\n",
              "    fill: var(--button-hover-fill-color);\n",
              "  }\n",
              "\n",
              "  .colab-df-quickchart-complete:disabled,\n",
              "  .colab-df-quickchart-complete:disabled:hover {\n",
              "    background-color: var(--disabled-bg-color);\n",
              "    fill: var(--disabled-fill-color);\n",
              "    box-shadow: none;\n",
              "  }\n",
              "\n",
              "  .colab-df-spinner {\n",
              "    border: 2px solid var(--fill-color);\n",
              "    border-color: transparent;\n",
              "    border-bottom-color: var(--fill-color);\n",
              "    animation:\n",
              "      spin 1s steps(1) infinite;\n",
              "  }\n",
              "\n",
              "  @keyframes spin {\n",
              "    0% {\n",
              "      border-color: transparent;\n",
              "      border-bottom-color: var(--fill-color);\n",
              "      border-left-color: var(--fill-color);\n",
              "    }\n",
              "    20% {\n",
              "      border-color: transparent;\n",
              "      border-left-color: var(--fill-color);\n",
              "      border-top-color: var(--fill-color);\n",
              "    }\n",
              "    30% {\n",
              "      border-color: transparent;\n",
              "      border-left-color: var(--fill-color);\n",
              "      border-top-color: var(--fill-color);\n",
              "      border-right-color: var(--fill-color);\n",
              "    }\n",
              "    40% {\n",
              "      border-color: transparent;\n",
              "      border-right-color: var(--fill-color);\n",
              "      border-top-color: var(--fill-color);\n",
              "    }\n",
              "    60% {\n",
              "      border-color: transparent;\n",
              "      border-right-color: var(--fill-color);\n",
              "    }\n",
              "    80% {\n",
              "      border-color: transparent;\n",
              "      border-right-color: var(--fill-color);\n",
              "      border-bottom-color: var(--fill-color);\n",
              "    }\n",
              "    90% {\n",
              "      border-color: transparent;\n",
              "      border-bottom-color: var(--fill-color);\n",
              "    }\n",
              "  }\n",
              "</style>\n",
              "\n",
              "  <script>\n",
              "    async function quickchart(key) {\n",
              "      const quickchartButtonEl =\n",
              "        document.querySelector('#' + key + ' button');\n",
              "      quickchartButtonEl.disabled = true;  // To prevent multiple clicks.\n",
              "      quickchartButtonEl.classList.add('colab-df-spinner');\n",
              "      try {\n",
              "        const charts = await google.colab.kernel.invokeFunction(\n",
              "            'suggestCharts', [key], {});\n",
              "      } catch (error) {\n",
              "        console.error('Error during call to suggestCharts:', error);\n",
              "      }\n",
              "      quickchartButtonEl.classList.remove('colab-df-spinner');\n",
              "      quickchartButtonEl.classList.add('colab-df-quickchart-complete');\n",
              "    }\n",
              "    (() => {\n",
              "      let quickchartButtonEl =\n",
              "        document.querySelector('#df-a22b084a-462c-4347-8fc1-07137a8f8b0c button');\n",
              "      quickchartButtonEl.style.display =\n",
              "        google.colab.kernel.accessAllowed ? 'block' : 'none';\n",
              "    })();\n",
              "  </script>\n",
              "</div>\n",
              "    </div>\n",
              "  </div>\n"
            ]
          },
          "metadata": {},
          "execution_count": 74
        }
      ]
    },
    {
      "cell_type": "code",
      "source": [
        "tabela.loc[tabela['Retirar']=='retirar']"
      ],
      "metadata": {
        "id": "Elf5m1v80uln"
      },
      "execution_count": null,
      "outputs": []
    },
    {
      "cell_type": "code",
      "source": [
        "tabela.iloc[48:52]"
      ],
      "metadata": {
        "colab": {
          "base_uri": "https://localhost:8080/",
          "height": 206
        },
        "id": "04omVsUtdzAA",
        "outputId": "6de15506-ed79-4e9f-f4f8-ac10da36bf6c"
      },
      "execution_count": 11,
      "outputs": [
        {
          "output_type": "execute_result",
          "data": {
            "text/plain": [
              "                                            Artigo Completo  \\\n",
              "Capítulo                                                      \n",
              "5.0       Art. 16 O VU 2024 será realizado em duas fases...   \n",
              "5.0       Art. 16 O VU 2024 será realizado em duas fases...   \n",
              "5.0       Art. 16 O VU 2024 será realizado em duas fases...   \n",
              "5.0       Art. 16 O VU 2024 será realizado em duas fases...   \n",
              "\n",
              "                                                     Textos  \\\n",
              "Capítulo                                                      \n",
              "5.0       Art. 16 O VU 2024 será realizado em duas fases...   \n",
              "5.0       §1º A 1ª fase do VU 2024 será realizada no dia...   \n",
              "5.0       §2º As provas de Habilidades Específicas para ...   \n",
              "5.0       §3º As provas de Habilidades Específicas, exce...   \n",
              "\n",
              "                                                tokenizados  n_tokens  \n",
              "Capítulo                                                               \n",
              "5.0       [9470, 13, 220, 845, 507, 650, 52, 220, 2366, ...        73  \n",
              "5.0       [18332, 16, 29300, 362, 220, 16, 65005, 70812,...        59  \n",
              "5.0       [18332, 17, 29300, 1666, 2605, 300, 409, 473, ...       111  \n",
              "5.0       [18332, 18, 29300, 1666, 2605, 300, 409, 473, ...        70  "
            ],
            "text/html": [
              "\n",
              "  <div id=\"df-38adad8d-50d2-4694-9a4c-4b29c2e0e1ac\" class=\"colab-df-container\">\n",
              "    <div>\n",
              "<style scoped>\n",
              "    .dataframe tbody tr th:only-of-type {\n",
              "        vertical-align: middle;\n",
              "    }\n",
              "\n",
              "    .dataframe tbody tr th {\n",
              "        vertical-align: top;\n",
              "    }\n",
              "\n",
              "    .dataframe thead th {\n",
              "        text-align: right;\n",
              "    }\n",
              "</style>\n",
              "<table border=\"1\" class=\"dataframe\">\n",
              "  <thead>\n",
              "    <tr style=\"text-align: right;\">\n",
              "      <th></th>\n",
              "      <th>Artigo Completo</th>\n",
              "      <th>Textos</th>\n",
              "      <th>tokenizados</th>\n",
              "      <th>n_tokens</th>\n",
              "    </tr>\n",
              "    <tr>\n",
              "      <th>Capítulo</th>\n",
              "      <th></th>\n",
              "      <th></th>\n",
              "      <th></th>\n",
              "      <th></th>\n",
              "    </tr>\n",
              "  </thead>\n",
              "  <tbody>\n",
              "    <tr>\n",
              "      <th>5.0</th>\n",
              "      <td>Art. 16 O VU 2024 será realizado em duas fases...</td>\n",
              "      <td>Art. 16 O VU 2024 será realizado em duas fases...</td>\n",
              "      <td>[9470, 13, 220, 845, 507, 650, 52, 220, 2366, ...</td>\n",
              "      <td>73</td>\n",
              "    </tr>\n",
              "    <tr>\n",
              "      <th>5.0</th>\n",
              "      <td>Art. 16 O VU 2024 será realizado em duas fases...</td>\n",
              "      <td>§1º A 1ª fase do VU 2024 será realizada no dia...</td>\n",
              "      <td>[18332, 16, 29300, 362, 220, 16, 65005, 70812,...</td>\n",
              "      <td>59</td>\n",
              "    </tr>\n",
              "    <tr>\n",
              "      <th>5.0</th>\n",
              "      <td>Art. 16 O VU 2024 será realizado em duas fases...</td>\n",
              "      <td>§2º As provas de Habilidades Específicas para ...</td>\n",
              "      <td>[18332, 17, 29300, 1666, 2605, 300, 409, 473, ...</td>\n",
              "      <td>111</td>\n",
              "    </tr>\n",
              "    <tr>\n",
              "      <th>5.0</th>\n",
              "      <td>Art. 16 O VU 2024 será realizado em duas fases...</td>\n",
              "      <td>§3º As provas de Habilidades Específicas, exce...</td>\n",
              "      <td>[18332, 18, 29300, 1666, 2605, 300, 409, 473, ...</td>\n",
              "      <td>70</td>\n",
              "    </tr>\n",
              "  </tbody>\n",
              "</table>\n",
              "</div>\n",
              "    <div class=\"colab-df-buttons\">\n",
              "\n",
              "  <div class=\"colab-df-container\">\n",
              "    <button class=\"colab-df-convert\" onclick=\"convertToInteractive('df-38adad8d-50d2-4694-9a4c-4b29c2e0e1ac')\"\n",
              "            title=\"Convert this dataframe to an interactive table.\"\n",
              "            style=\"display:none;\">\n",
              "\n",
              "  <svg xmlns=\"http://www.w3.org/2000/svg\" height=\"24px\" viewBox=\"0 -960 960 960\">\n",
              "    <path d=\"M120-120v-720h720v720H120Zm60-500h600v-160H180v160Zm220 220h160v-160H400v160Zm0 220h160v-160H400v160ZM180-400h160v-160H180v160Zm440 0h160v-160H620v160ZM180-180h160v-160H180v160Zm440 0h160v-160H620v160Z\"/>\n",
              "  </svg>\n",
              "    </button>\n",
              "\n",
              "  <style>\n",
              "    .colab-df-container {\n",
              "      display:flex;\n",
              "      gap: 12px;\n",
              "    }\n",
              "\n",
              "    .colab-df-convert {\n",
              "      background-color: #E8F0FE;\n",
              "      border: none;\n",
              "      border-radius: 50%;\n",
              "      cursor: pointer;\n",
              "      display: none;\n",
              "      fill: #1967D2;\n",
              "      height: 32px;\n",
              "      padding: 0 0 0 0;\n",
              "      width: 32px;\n",
              "    }\n",
              "\n",
              "    .colab-df-convert:hover {\n",
              "      background-color: #E2EBFA;\n",
              "      box-shadow: 0px 1px 2px rgba(60, 64, 67, 0.3), 0px 1px 3px 1px rgba(60, 64, 67, 0.15);\n",
              "      fill: #174EA6;\n",
              "    }\n",
              "\n",
              "    .colab-df-buttons div {\n",
              "      margin-bottom: 4px;\n",
              "    }\n",
              "\n",
              "    [theme=dark] .colab-df-convert {\n",
              "      background-color: #3B4455;\n",
              "      fill: #D2E3FC;\n",
              "    }\n",
              "\n",
              "    [theme=dark] .colab-df-convert:hover {\n",
              "      background-color: #434B5C;\n",
              "      box-shadow: 0px 1px 3px 1px rgba(0, 0, 0, 0.15);\n",
              "      filter: drop-shadow(0px 1px 2px rgba(0, 0, 0, 0.3));\n",
              "      fill: #FFFFFF;\n",
              "    }\n",
              "  </style>\n",
              "\n",
              "    <script>\n",
              "      const buttonEl =\n",
              "        document.querySelector('#df-38adad8d-50d2-4694-9a4c-4b29c2e0e1ac button.colab-df-convert');\n",
              "      buttonEl.style.display =\n",
              "        google.colab.kernel.accessAllowed ? 'block' : 'none';\n",
              "\n",
              "      async function convertToInteractive(key) {\n",
              "        const element = document.querySelector('#df-38adad8d-50d2-4694-9a4c-4b29c2e0e1ac');\n",
              "        const dataTable =\n",
              "          await google.colab.kernel.invokeFunction('convertToInteractive',\n",
              "                                                    [key], {});\n",
              "        if (!dataTable) return;\n",
              "\n",
              "        const docLinkHtml = 'Like what you see? Visit the ' +\n",
              "          '<a target=\"_blank\" href=https://colab.research.google.com/notebooks/data_table.ipynb>data table notebook</a>'\n",
              "          + ' to learn more about interactive tables.';\n",
              "        element.innerHTML = '';\n",
              "        dataTable['output_type'] = 'display_data';\n",
              "        await google.colab.output.renderOutput(dataTable, element);\n",
              "        const docLink = document.createElement('div');\n",
              "        docLink.innerHTML = docLinkHtml;\n",
              "        element.appendChild(docLink);\n",
              "      }\n",
              "    </script>\n",
              "  </div>\n",
              "\n",
              "\n",
              "<div id=\"df-919ef216-5f83-4e60-9ddf-620b7a8d20cf\">\n",
              "  <button class=\"colab-df-quickchart\" onclick=\"quickchart('df-919ef216-5f83-4e60-9ddf-620b7a8d20cf')\"\n",
              "            title=\"Suggest charts.\"\n",
              "            style=\"display:none;\">\n",
              "\n",
              "<svg xmlns=\"http://www.w3.org/2000/svg\" height=\"24px\"viewBox=\"0 0 24 24\"\n",
              "     width=\"24px\">\n",
              "    <g>\n",
              "        <path d=\"M19 3H5c-1.1 0-2 .9-2 2v14c0 1.1.9 2 2 2h14c1.1 0 2-.9 2-2V5c0-1.1-.9-2-2-2zM9 17H7v-7h2v7zm4 0h-2V7h2v10zm4 0h-2v-4h2v4z\"/>\n",
              "    </g>\n",
              "</svg>\n",
              "  </button>\n",
              "\n",
              "<style>\n",
              "  .colab-df-quickchart {\n",
              "      --bg-color: #E8F0FE;\n",
              "      --fill-color: #1967D2;\n",
              "      --hover-bg-color: #E2EBFA;\n",
              "      --hover-fill-color: #174EA6;\n",
              "      --disabled-fill-color: #AAA;\n",
              "      --disabled-bg-color: #DDD;\n",
              "  }\n",
              "\n",
              "  [theme=dark] .colab-df-quickchart {\n",
              "      --bg-color: #3B4455;\n",
              "      --fill-color: #D2E3FC;\n",
              "      --hover-bg-color: #434B5C;\n",
              "      --hover-fill-color: #FFFFFF;\n",
              "      --disabled-bg-color: #3B4455;\n",
              "      --disabled-fill-color: #666;\n",
              "  }\n",
              "\n",
              "  .colab-df-quickchart {\n",
              "    background-color: var(--bg-color);\n",
              "    border: none;\n",
              "    border-radius: 50%;\n",
              "    cursor: pointer;\n",
              "    display: none;\n",
              "    fill: var(--fill-color);\n",
              "    height: 32px;\n",
              "    padding: 0;\n",
              "    width: 32px;\n",
              "  }\n",
              "\n",
              "  .colab-df-quickchart:hover {\n",
              "    background-color: var(--hover-bg-color);\n",
              "    box-shadow: 0 1px 2px rgba(60, 64, 67, 0.3), 0 1px 3px 1px rgba(60, 64, 67, 0.15);\n",
              "    fill: var(--button-hover-fill-color);\n",
              "  }\n",
              "\n",
              "  .colab-df-quickchart-complete:disabled,\n",
              "  .colab-df-quickchart-complete:disabled:hover {\n",
              "    background-color: var(--disabled-bg-color);\n",
              "    fill: var(--disabled-fill-color);\n",
              "    box-shadow: none;\n",
              "  }\n",
              "\n",
              "  .colab-df-spinner {\n",
              "    border: 2px solid var(--fill-color);\n",
              "    border-color: transparent;\n",
              "    border-bottom-color: var(--fill-color);\n",
              "    animation:\n",
              "      spin 1s steps(1) infinite;\n",
              "  }\n",
              "\n",
              "  @keyframes spin {\n",
              "    0% {\n",
              "      border-color: transparent;\n",
              "      border-bottom-color: var(--fill-color);\n",
              "      border-left-color: var(--fill-color);\n",
              "    }\n",
              "    20% {\n",
              "      border-color: transparent;\n",
              "      border-left-color: var(--fill-color);\n",
              "      border-top-color: var(--fill-color);\n",
              "    }\n",
              "    30% {\n",
              "      border-color: transparent;\n",
              "      border-left-color: var(--fill-color);\n",
              "      border-top-color: var(--fill-color);\n",
              "      border-right-color: var(--fill-color);\n",
              "    }\n",
              "    40% {\n",
              "      border-color: transparent;\n",
              "      border-right-color: var(--fill-color);\n",
              "      border-top-color: var(--fill-color);\n",
              "    }\n",
              "    60% {\n",
              "      border-color: transparent;\n",
              "      border-right-color: var(--fill-color);\n",
              "    }\n",
              "    80% {\n",
              "      border-color: transparent;\n",
              "      border-right-color: var(--fill-color);\n",
              "      border-bottom-color: var(--fill-color);\n",
              "    }\n",
              "    90% {\n",
              "      border-color: transparent;\n",
              "      border-bottom-color: var(--fill-color);\n",
              "    }\n",
              "  }\n",
              "</style>\n",
              "\n",
              "  <script>\n",
              "    async function quickchart(key) {\n",
              "      const quickchartButtonEl =\n",
              "        document.querySelector('#' + key + ' button');\n",
              "      quickchartButtonEl.disabled = true;  // To prevent multiple clicks.\n",
              "      quickchartButtonEl.classList.add('colab-df-spinner');\n",
              "      try {\n",
              "        const charts = await google.colab.kernel.invokeFunction(\n",
              "            'suggestCharts', [key], {});\n",
              "      } catch (error) {\n",
              "        console.error('Error during call to suggestCharts:', error);\n",
              "      }\n",
              "      quickchartButtonEl.classList.remove('colab-df-spinner');\n",
              "      quickchartButtonEl.classList.add('colab-df-quickchart-complete');\n",
              "    }\n",
              "    (() => {\n",
              "      let quickchartButtonEl =\n",
              "        document.querySelector('#df-919ef216-5f83-4e60-9ddf-620b7a8d20cf button');\n",
              "      quickchartButtonEl.style.display =\n",
              "        google.colab.kernel.accessAllowed ? 'block' : 'none';\n",
              "    })();\n",
              "  </script>\n",
              "</div>\n",
              "    </div>\n",
              "  </div>\n"
            ]
          },
          "metadata": {},
          "execution_count": 11
        }
      ]
    },
    {
      "cell_type": "markdown",
      "source": [
        "Segmentando o texto por artigos (ainda sem os anexos), nenhum trecho fica com mais tokens do que o embedding dá conta. O máximo é 1141, o limite é 8200 (aprox.).\n",
        "\n",
        "Ainda falta tirar as quebras de linha para facilitar o embedding."
      ],
      "metadata": {
        "id": "9avf_H2z3b1o"
      }
    },
    {
      "cell_type": "code",
      "source": [
        "# função do tutorial da OpenAI\n",
        "\n",
        "def remove_newlines(serie):\n",
        "    serie = serie.replace('\\n', ' ')\n",
        "    serie = serie.replace('\\\\n', ' ')\n",
        "    serie = serie.replace('  ', ' ')\n",
        "    serie = serie.replace('  ', ' ')\n",
        "    return serie"
      ],
      "metadata": {
        "id": "LztxEcGw34SA"
      },
      "execution_count": 15,
      "outputs": []
    },
    {
      "cell_type": "code",
      "source": [],
      "metadata": {
        "id": "5f0xmL8jrWaE"
      },
      "execution_count": null,
      "outputs": []
    },
    {
      "cell_type": "code",
      "source": [
        "tabela['Textos Enxugados'] = tabela.Textos.apply(remove_newlines)"
      ],
      "metadata": {
        "id": "d9euduflYJdJ"
      },
      "execution_count": 16,
      "outputs": []
    },
    {
      "cell_type": "code",
      "source": [
        "tabela['novos_tokens'] = tabela['Textos Enxugados'].apply(tokenizer.encode)"
      ],
      "metadata": {
        "id": "x0Di8nkwYQ2H"
      },
      "execution_count": 17,
      "outputs": []
    },
    {
      "cell_type": "code",
      "source": [
        "tabela['novo_n_tokens'] = tabela['novos_tokens'].apply(lambda x: len(x))"
      ],
      "metadata": {
        "id": "Q_8fBnW9YC5B"
      },
      "execution_count": 18,
      "outputs": []
    },
    {
      "cell_type": "code",
      "source": [
        "print(len(tokenizer.encode(texto_enxugado)))"
      ],
      "metadata": {
        "colab": {
          "base_uri": "https://localhost:8080/"
        },
        "id": "Wo9QhEu9YWKu",
        "outputId": "1f258307-bf10-49dd-b2a3-65b3d15fe6cd"
      },
      "execution_count": 30,
      "outputs": [
        {
          "output_type": "stream",
          "name": "stdout",
          "text": [
            "587\n"
          ]
        }
      ]
    },
    {
      "cell_type": "markdown",
      "source": [
        "# Criando Embeddings usando LangChain"
      ],
      "metadata": {
        "id": "04ylt_K0sqcs"
      }
    },
    {
      "cell_type": "code",
      "source": [
        "os.environ['OPENAI_API_KEY'] = getpass.getpass('OpenAI API Key:')"
      ],
      "metadata": {
        "colab": {
          "base_uri": "https://localhost:8080/"
        },
        "id": "taREfzbtVLB0",
        "outputId": "1de079f8-facd-4d72-d312-1b53bb254a0b"
      },
      "execution_count": 12,
      "outputs": [
        {
          "name": "stdout",
          "output_type": "stream",
          "text": [
            "OpenAI API Key:··········\n"
          ]
        }
      ]
    },
    {
      "cell_type": "code",
      "source": [
        "chroma_vector_store = Chroma.from_texts(texts=['era uma vez um gato xadrez','o rato roeu a roupa'],embedding=OpenAIEmbeddings())"
      ],
      "metadata": {
        "id": "kTiYzkbHTDra"
      },
      "execution_count": null,
      "outputs": []
    },
    {
      "cell_type": "code",
      "source": [
        "cliente = Chroma()\n",
        "cliente.delete_collection()\n",
        "chroma_unicamp = cliente.from_texts(texts=tabela.Textos.to_list(),embedding=OpenAIEmbeddings())"
      ],
      "metadata": {
        "id": "-fbL21oVBv6A"
      },
      "execution_count": 13,
      "outputs": []
    },
    {
      "cell_type": "code",
      "source": [
        "lala = chroma_unicamp.get()"
      ],
      "metadata": {
        "id": "eypCXY-n_DzG"
      },
      "execution_count": null,
      "outputs": []
    },
    {
      "cell_type": "code",
      "source": [
        "len(lala['documents'])"
      ],
      "metadata": {
        "id": "dx8tE9ev_m6_"
      },
      "execution_count": null,
      "outputs": []
    },
    {
      "cell_type": "code",
      "source": [
        ",collection_metadata={\"hnsw:space\": \"cosine\"}"
      ],
      "metadata": {
        "id": "RnYjKy819xI3"
      },
      "execution_count": null,
      "outputs": []
    },
    {
      "cell_type": "markdown",
      "source": [
        "Parece que temos os embeddings guardados no ChromaDB"
      ],
      "metadata": {
        "id": "37nzGpjP4-FP"
      }
    },
    {
      "cell_type": "markdown",
      "source": [
        "# Criando a Chain do LangChain"
      ],
      "metadata": {
        "id": "jddLv-Zr7Uqi"
      }
    },
    {
      "cell_type": "code",
      "source": [
        "\n",
        "\n",
        "modelo = ChatOpenAI()\n"
      ],
      "metadata": {
        "id": "MauCeCPT7coK"
      },
      "execution_count": 14,
      "outputs": []
    },
    {
      "cell_type": "code",
      "source": [
        "prompt_template_unicamp = \"\"\"Você é um assistente virtual amigável que tem por objetivo tirar dúvidas dos estudantes ou público geral sobre o Vestibular Unicamp 2024.\n",
        "Se uma pergunta não puder ser respondida com base nas informações publicadas pela universidade, você não deve tentar respondê-la, mas sim, orientar o usuário a buscar mais informações no site oficial da Comvest (www.comvest.unicamp.br).\n",
        "Responda de forma simples e clara.\n",
        "\n",
        "Norma publicada pela universidade: {context}\n",
        "\n",
        "Pergunta: {question}\"\"\"\n",
        "\n",
        "template = PromptTemplate(template=prompt_template_unicamp, input_variables=[\"context\",\"question\"])"
      ],
      "metadata": {
        "id": "W0X7nTG9ift8"
      },
      "execution_count": 15,
      "outputs": []
    },
    {
      "cell_type": "code",
      "source": [
        "respondedor_de_perguntas = RetrievalQA.from_chain_type(llm=modelo,retriever=chroma_unicamp.as_retriever(search_kwargs={\"k\":4}),chain_type_kwargs={\"prompt\": template},return_source_documents=True)"
      ],
      "metadata": {
        "id": "PCq8Rnn8-8cv"
      },
      "execution_count": 16,
      "outputs": []
    },
    {
      "cell_type": "code",
      "source": [
        "resposta = respondedor_de_perguntas(\"como são calculadas as notas das provas do vestibular?\",include_run_info=True)"
      ],
      "metadata": {
        "id": "JWnvcZCEAxOM"
      },
      "execution_count": 31,
      "outputs": []
    },
    {
      "cell_type": "code",
      "source": [
        "resposta"
      ],
      "metadata": {
        "colab": {
          "base_uri": "https://localhost:8080/"
        },
        "id": "bJO1NP53irsw",
        "outputId": "346dd6f9-12a2-42f8-b423-5386580bd549"
      },
      "execution_count": 32,
      "outputs": [
        {
          "output_type": "execute_result",
          "data": {
            "text/plain": [
              "{'query': 'como são calculadas as notas das provas do vestibular?',\n",
              " 'result': 'As notas das provas do vestibular são calculadas de acordo com a padronização estabelecida pela universidade. Na segunda fase, as notas das provas são padronizadas utilizando a média e o desvio padrão. A fórmula para o cálculo da nota padronizada (NP) é a seguinte: NP = 500 + (N – M) x 100/DP, onde N é a nota bruta obtida pelo candidato na prova, M é a média da prova entre todos os candidatos que a fizeram e obtiveram nota maior que zero, e DP é o desvio padrão da distribuição de notas da prova entre todos os candidatos que a fizeram e obtiveram nota maior que zero. A nota padronizada NP é arredondada para uma casa decimal com precisão de 0,1. A nota padronizada da primeira fase também é calculada de acordo com uma fórmula específica. Já a nota final é calculada considerando a nota padronizada da primeira fase, a nota padronizada da prova de redação e a nota das questões da segunda fase, de acordo com pesos específicos estabelecidos no Anexo III. A nota final é arredondada para uma casa decimal com precisão de 0,1.',\n",
              " 'source_documents': [Document(page_content='Art. 25 Para o cálculo da nota final do(a) candidato(a) e de sua classificação, as notas das provas da 2ª fase, incluindo a prova de Redação e de Habilidades Específicas, quando houver, serão padronizadas da seguinte maneira:  \\n\\nI. Ao(à) candidato(a) será atribuída uma nota padronizada (NP) em cada prova. A padronização atribuirá 500 pontos à média e 100 pontos ao desvio padrão. A NP do(a) candidato(a) em cada prova será dada por:  \\n\\nNP = 500 + (N – M) x 100/DP,  \\n\\nem que:  \\n\\n1. N é a nota bruta obtida pelo(a) candidato(a) na prova. \\n2. M é a média da prova entre todos(as) os(as) candidatos(as) que a fizeram e obtiveram nota maior do que 0 (zero). M será arredondada para uma casa decimal com precisão de 0,5. \\n3. DP é o desvio padrão da distribuição de notas da prova entre todos(as) os(as) candidatos(as) que a fizeram e obtiveram nota maior do que 0 (zero). DP será arredondado para uma casa decimal com precisão de 0,5. \\n4. A nota padronizada NP será arredondada uma casa decimal com precisão de 0,1. \\n5. A nota padronizada da 1ª fase será calculada segundo o art. 19.  \\n6. À nota dos(as) participantes do PAAIS será acrescida a pontuação conforme o art. 9º.\\n\\nII. Ao(à) candidato(a) será atribuída uma Nota Padronizada de Opção (NPO), para cada opção de curso escolhido, que definirá a classificação do(a) candidato(a) em suas opções, segundo o Anexo III. A NPO será dada por:  \\n\\nNPO = 0,15 NF1 + 0,20 NR + 0,65 NF2, \\n\\nem que NF1 é a Nota Final da 1ª fase conforme art. 20, NR é a nota padronizada da prova de Redação e NF2 é a nota das questões da 2ª fase dada pela média ponderada das provas de Língua Portuguesa e Literaturas de Língua Portuguesa, Matemática, Interdisciplinar, Provas de Conhecimentos Específicos (2 provas de acordo com a área do curso escolhido) e Habilidades Específicas. A NPO será arredondada para uma casa decimal com precisão de 0,1. Assim, a NF2 é dada por:\\n\\n\\nem que NLPL, NMAT, NINT, NPCE1, NPCE2, e NHE são as notas padronizadas nas provas de Língua Portuguesa e Literaturas de Língua Portuguesa, Matemática, Interdisciplinar, Provas de Conhecimentos Específicos 1 e 2, e Habilidades Específicas, respectivamente, enquanto PLPL, PMAT, PINT, PPCE1, PPCE2, são os respectivos pesos, conforme a tabela do Anexo III; para os cursos que exigem a prova de Habilidades Específicas, PHE = 3 e para os demais PHE = 0.  A nota padronizada NF2 será arredondada para uma casa decimal com precisão de 0,1.\\n'),\n",
              "  Document(page_content='Art. 20 A Nota Final da 1ª fase (NF1) será calculada da seguinte maneira: \\n\\nI. A NF1 será a Nota Padronizada da Prova da 1ª fase (NPF1), calculada segundo o § 4º do art. 19, exceto para os(as) candidatos(as) aos cursos de Música. \\nII. Para os(as) candidatos(as) aos cursos de Música, a NF1 será a média aritmética da NPF1, calculada segundo o § 4º do art. 19, e da NPM, calculada segundo o § 5º do art. 19. \\nIII. Aos participantes do PAAIS, será acrescida a pontuação conforme art. 9º. '),\n",
              "  Document(page_content='PROGRAMA DAS PROVAS\\n\\nMATEMÁTICA \\n\\na) Conjunto de habilidades exigidas na prova: \\n\\nAs questões de Matemática do Vestibular Unicamp, tanto na primeira quanto na segunda fase, procuram identificar nos candidatos um conhecimento crítico e integrado da Matemática do ensino fundamental e do ensino médio. A leitura atenta dos enunciados das questões, a formulação correta dos problemas matemáticos associados, a elaboração cuidadosa dos cálculos, o uso correto das unidades, a escolha da resposta correta ou a apresentação de respostas claras são procedimentos mínimos e indispensáveis para que o candidato seja bem-sucedido. O candidato deve estar familiarizado com a nomenclatura e os símbolos matemáticos usuais. Exige-se do candidato que saiba resolver problemas matemáticos relacionados ao seu cotidiano, bem como interpretar e elaborar tabelas e gráficos, além de responder questões que tratam de forma mais abstrata o conhecimento matemático. Em geral, as questões não exigem a repetição de demonstrações de teoremas clássicos, embora o conhecimento das definições e a compreensão dos principais teoremas sejam de fundamental importância para um bom desempenho do candidato.  '),\n",
              "  Document(page_content='Segunda Fase: §6º Para a composição das notas, considera-se a realização das seguintes provas: \\r\\n\\r\\na) 4 (quatro) provas comuns a todos os(as) candidatos(as): prova de Redação; prova de Língua Portuguesa e Literaturas de Língua Portuguesa; prova de Matemática; prova Interdisciplinar (Inglês, Ciências Humanas e Ciências da Natureza). \\r\\nb) Provas de conhecimentos específicos, conforme a área do curso de opção:  \\r\\ni) Provas de Biologia e de Química (para Ciências Biológicas/Saúde). \\r\\nii) Provas de Física e de Química (para Exatas/Tecnológicas). \\r\\niii) Provas de Geografia, História, Filosofia e Sociologia (para Humanas/Artes). \\r\\nc) Provas de Geografia, História, Filosofia e Sociologia (para Humanas/Artes). \\r\\nd) Prova de Habilidades Específicas, para os cursos que a exigem. \\r\\n\\r\\n§7º Para fins de cálculo de nota, a prova de História inclui a prova de Filosofia e a prova de Geografia inclui a prova de Sociologia.')],\n",
              " '__run': RunInfo(run_id=UUID('4ae2f8d1-498e-4bea-be7e-9f4109f5e2e6'))}"
            ]
          },
          "metadata": {},
          "execution_count": 32
        }
      ]
    },
    {
      "cell_type": "code",
      "source": [
        "len(resposta['source_documents'])"
      ],
      "metadata": {
        "colab": {
          "base_uri": "https://localhost:8080/"
        },
        "id": "kLAY6CgOhp_v",
        "outputId": "61107aa1-63b8-4f26-8ee3-4191b17dcb32"
      },
      "execution_count": 37,
      "outputs": [
        {
          "output_type": "execute_result",
          "data": {
            "text/plain": [
              "4"
            ]
          },
          "metadata": {},
          "execution_count": 37
        }
      ]
    },
    {
      "cell_type": "code",
      "source": [
        "respos"
      ],
      "metadata": {
        "id": "1SCyp3uGxrg3"
      },
      "execution_count": null,
      "outputs": []
    }
  ]
}